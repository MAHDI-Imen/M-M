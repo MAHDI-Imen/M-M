{
 "cells": [
  {
   "cell_type": "code",
   "execution_count": 1,
   "metadata": {},
   "outputs": [
    {
     "name": "stderr",
     "output_type": "stream",
     "text": [
      "/home/ids/mahdi-22/M-M/.venv/lib/python3.10/site-packages/tqdm/auto.py:21: TqdmWarning: IProgress not found. Please update jupyter and ipywidgets. See https://ipywidgets.readthedocs.io/en/stable/user_install.html\n",
      "  from .autonotebook import tqdm as notebook_tqdm\n"
     ]
    }
   ],
   "source": [
    "import matplotlib.pyplot as plt\n",
    "from einops import rearrange\n",
    "\n",
    "import torch\n",
    "import torch.nn.functional as F\n",
    "\n",
    "\n",
    "from monai.transforms import ScaleIntensity\n",
    "from monai.config import print_config\n",
    "\n",
    "from scripts.train import LitUnet\n",
    "from scripts.data import CentreDataModule\n",
    "import pytorch_lightning as pl\n",
    "from pytorch_lightning.callbacks import EarlyStopping\n",
    "from pytorch_lightning import seed_everything\n",
    "\n",
    "%load_ext autoreload\n",
    "%autoreload 2\n",
    "\n",
    "from scripts.utils import *\n",
    "\n",
    "#print_config()\n"
   ]
  },
  {
   "cell_type": "code",
   "execution_count": 2,
   "metadata": {},
   "outputs": [
    {
     "name": "stderr",
     "output_type": "stream",
     "text": [
      "Global seed set to 42\n"
     ]
    }
   ],
   "source": [
    "seed_everything(42, workers=True)\n",
    "\n",
    "model = LitUnet(lr=1e-3)"
   ]
  },
  {
   "cell_type": "code",
   "execution_count": 3,
   "metadata": {},
   "outputs": [
    {
     "name": "stderr",
     "output_type": "stream",
     "text": [
      "/home/ids/mahdi-22/M-M/.venv/lib/python3.10/site-packages/lightning_fabric/plugins/environments/slurm.py:165: PossibleUserWarning: The `srun` command is available on your system but is not used. HINT: If your intention is to run Lightning on SLURM, prepend your python command with `srun` like so: srun python /home/ids/mahdi-22/M-M/.venv/lib/python3.10/site-pac ...\n",
      "  rank_zero_warn(\n",
      "GPU available: True (cuda), used: True\n",
      "TPU available: False, using: 0 TPU cores\n",
      "IPU available: False, using: 0 IPUs\n",
      "HPU available: False, using: 0 HPUs\n",
      "/home/ids/mahdi-22/M-M/.venv/lib/python3.10/site-packages/lightning_fabric/plugins/environments/slurm.py:165: PossibleUserWarning: The `srun` command is available on your system but is not used. HINT: If your intention is to run Lightning on SLURM, prepend your python command with `srun` like so: srun python /home/ids/mahdi-22/M-M/.venv/lib/python3.10/site-pac ...\n",
      "  rank_zero_warn(\n"
     ]
    },
    {
     "name": "stdout",
     "output_type": "stream",
     "text": [
      "total number of samples: 95, train samples: 66, Validation: 29\n"
     ]
    },
    {
     "name": "stderr",
     "output_type": "stream",
     "text": [
      "Loading Images/Labels:: 100%|██████████| 66/66 [00:02<00:00, 32.02File/s]\n",
      "Loading Images/Labels:: 100%|██████████| 66/66 [00:00<00:00, 69.18File/s]\n",
      "Loading Images/Labels:: 100%|██████████| 29/29 [00:00<00:00, 33.69File/s]\n",
      "Loading Images/Labels:: 100%|██████████| 29/29 [00:00<00:00, 70.76File/s]\n",
      "/home/ids/mahdi-22/M-M/.venv/lib/python3.10/site-packages/pytorch_lightning/callbacks/model_checkpoint.py:615: UserWarning: Checkpoint directory /home/ids/mahdi-22/M-M/lightning_logs/version_39260/checkpoints exists and is not empty.\n",
      "  rank_zero_warn(f\"Checkpoint directory {dirpath} exists and is not empty.\")\n",
      "LOCAL_RANK: 0 - CUDA_VISIBLE_DEVICES: [0]\n"
     ]
    },
    {
     "name": "stdout",
     "output_type": "stream",
     "text": [
      "Epoch 10: 100%|██████████| 195/195 [00:06<00:00, 29.40it/s, v_num=39260, val_loss=0.0591, train_loss=0.0395]\n"
     ]
    }
   ],
   "source": [
    "transform =  ScaleIntensity(minv=0.0, maxv=1.0, channel_wise=True)\n",
    "dm = CentreDataModule(\"A\", split_ratio=0.7, load_transform=transform, batch_size=8)\n",
    "# Training and Validation\n",
    "trainer = pl.Trainer(max_epochs=50, \n",
    "                     deterministic=True, \n",
    "                     logger=True,\n",
    "                     log_every_n_steps=1, \n",
    "                     enable_model_summary=False,\n",
    "                     callbacks=[EarlyStopping('val_loss', patience=2)], \n",
    "                     fast_dev_run=False)\n",
    "trainer.fit(model, datamodule=dm)\n",
    "trainer.save_checkpoint(\"checkpoints/benchmark_deterministic.ckpt\")"
   ]
  },
  {
   "cell_type": "code",
   "execution_count": 4,
   "metadata": {},
   "outputs": [],
   "source": [
    "model = LitUnet.load_from_checkpoint(\"checkpoints/benchmark_deterministic.ckpt\")"
   ]
  },
  {
   "cell_type": "code",
   "execution_count": 32,
   "metadata": {},
   "outputs": [
    {
     "name": "stderr",
     "output_type": "stream",
     "text": [
      "Restoring states from the checkpoint path at /home/ids/mahdi-22/M-M/lightning_logs/version_39260/checkpoints/epoch=10-step=2145-v1.ckpt\n",
      "LOCAL_RANK: 0 - CUDA_VISIBLE_DEVICES: [0]\n",
      "Loaded model weights from the checkpoint at /home/ids/mahdi-22/M-M/lightning_logs/version_39260/checkpoints/epoch=10-step=2145-v1.ckpt\n"
     ]
    },
    {
     "name": "stdout",
     "output_type": "stream",
     "text": [
      "Testing DataLoader 5: 100%|██████████| 50/50 [00:18<00:00,  2.64it/s]\n"
     ]
    },
    {
     "data": {
      "text/html": [
       "<pre style=\"white-space:pre;overflow-x:auto;line-height:normal;font-family:Menlo,'DejaVu Sans Mono',consolas,'Courier New',monospace\">┏━━━━━━━━━━━━━━━━━━━━━━━━━━━┳━━━━━━━━━━━━━━━━━━━━━━━━━━━┳━━━━━━━━━━━━━━━━━━━━━━━━━━━┳━━━━━━━━━━━━━━━━━━━━━━━━━━━┓\n",
       "┃<span style=\"font-weight: bold\">        Test metric        </span>┃<span style=\"font-weight: bold\">       DataLoader 0        </span>┃<span style=\"font-weight: bold\">       DataLoader 1        </span>┃<span style=\"font-weight: bold\">       DataLoader 2        </span>┃\n",
       "┡━━━━━━━━━━━━━━━━━━━━━━━━━━━╇━━━━━━━━━━━━━━━━━━━━━━━━━━━╇━━━━━━━━━━━━━━━━━━━━━━━━━━━╇━━━━━━━━━━━━━━━━━━━━━━━━━━━┩\n",
       "│<span style=\"color: #008080; text-decoration-color: #008080\">         test_loss         </span>│<span style=\"color: #800080; text-decoration-color: #800080\">    0.03938731258060311    </span>│<span style=\"color: #800080; text-decoration-color: #800080\">    0.05907154347426737    </span>│<span style=\"color: #800080; text-decoration-color: #800080\">    0.07059815582702761    </span>│\n",
       "└───────────────────────────┴───────────────────────────┴───────────────────────────┴───────────────────────────┘\n",
       "</pre>\n"
      ],
      "text/plain": [
       "┏━━━━━━━━━━━━━━━━━━━━━━━━━━━┳━━━━━━━━━━━━━━━━━━━━━━━━━━━┳━━━━━━━━━━━━━━━━━━━━━━━━━━━┳━━━━━━━━━━━━━━━━━━━━━━━━━━━┓\n",
       "┃\u001b[1m \u001b[0m\u001b[1m       Test metric       \u001b[0m\u001b[1m \u001b[0m┃\u001b[1m \u001b[0m\u001b[1m      DataLoader 0       \u001b[0m\u001b[1m \u001b[0m┃\u001b[1m \u001b[0m\u001b[1m      DataLoader 1       \u001b[0m\u001b[1m \u001b[0m┃\u001b[1m \u001b[0m\u001b[1m      DataLoader 2       \u001b[0m\u001b[1m \u001b[0m┃\n",
       "┡━━━━━━━━━━━━━━━━━━━━━━━━━━━╇━━━━━━━━━━━━━━━━━━━━━━━━━━━╇━━━━━━━━━━━━━━━━━━━━━━━━━━━╇━━━━━━━━━━━━━━━━━━━━━━━━━━━┩\n",
       "│\u001b[36m \u001b[0m\u001b[36m        test_loss        \u001b[0m\u001b[36m \u001b[0m│\u001b[35m \u001b[0m\u001b[35m   0.03938731258060311   \u001b[0m\u001b[35m \u001b[0m│\u001b[35m \u001b[0m\u001b[35m   0.05907154347426737   \u001b[0m\u001b[35m \u001b[0m│\u001b[35m \u001b[0m\u001b[35m   0.07059815582702761   \u001b[0m\u001b[35m \u001b[0m│\n",
       "└───────────────────────────┴───────────────────────────┴───────────────────────────┴───────────────────────────┘\n"
      ]
     },
     "metadata": {},
     "output_type": "display_data"
    },
    {
     "data": {
      "text/html": [
       "<pre style=\"white-space:pre;overflow-x:auto;line-height:normal;font-family:Menlo,'DejaVu Sans Mono',consolas,'Courier New',monospace\">┏━━━━━━━━━━━━━━━━━━━━━━━━━━━┳━━━━━━━━━━━━━━━━━━━━━━━━━━━┳━━━━━━━━━━━━━━━━━━━━━━━━━━━┳━━━━━━━━━━━━━━━━━━━━━━━━━━━┓\n",
       "┃<span style=\"font-weight: bold\">        Test metric        </span>┃<span style=\"font-weight: bold\">       DataLoader 3        </span>┃<span style=\"font-weight: bold\">       DataLoader 4        </span>┃<span style=\"font-weight: bold\">       DataLoader 5        </span>┃\n",
       "┡━━━━━━━━━━━━━━━━━━━━━━━━━━━╇━━━━━━━━━━━━━━━━━━━━━━━━━━━╇━━━━━━━━━━━━━━━━━━━━━━━━━━━╇━━━━━━━━━━━━━━━━━━━━━━━━━━━┩\n",
       "│<span style=\"color: #008080; text-decoration-color: #008080\">         test_loss         </span>│<span style=\"color: #800080; text-decoration-color: #800080\">    0.05236804174457443    </span>│<span style=\"color: #800080; text-decoration-color: #800080\">    0.06769312220450134    </span>│<span style=\"color: #800080; text-decoration-color: #800080\">    0.09842617480538117    </span>│\n",
       "└───────────────────────────┴───────────────────────────┴───────────────────────────┴───────────────────────────┘\n",
       "</pre>\n"
      ],
      "text/plain": [
       "┏━━━━━━━━━━━━━━━━━━━━━━━━━━━┳━━━━━━━━━━━━━━━━━━━━━━━━━━━┳━━━━━━━━━━━━━━━━━━━━━━━━━━━┳━━━━━━━━━━━━━━━━━━━━━━━━━━━┓\n",
       "┃\u001b[1m \u001b[0m\u001b[1m       Test metric       \u001b[0m\u001b[1m \u001b[0m┃\u001b[1m \u001b[0m\u001b[1m      DataLoader 3       \u001b[0m\u001b[1m \u001b[0m┃\u001b[1m \u001b[0m\u001b[1m      DataLoader 4       \u001b[0m\u001b[1m \u001b[0m┃\u001b[1m \u001b[0m\u001b[1m      DataLoader 5       \u001b[0m\u001b[1m \u001b[0m┃\n",
       "┡━━━━━━━━━━━━━━━━━━━━━━━━━━━╇━━━━━━━━━━━━━━━━━━━━━━━━━━━╇━━━━━━━━━━━━━━━━━━━━━━━━━━━╇━━━━━━━━━━━━━━━━━━━━━━━━━━━┩\n",
       "│\u001b[36m \u001b[0m\u001b[36m        test_loss        \u001b[0m\u001b[36m \u001b[0m│\u001b[35m \u001b[0m\u001b[35m   0.05236804174457443   \u001b[0m\u001b[35m \u001b[0m│\u001b[35m \u001b[0m\u001b[35m   0.06769312220450134   \u001b[0m\u001b[35m \u001b[0m│\u001b[35m \u001b[0m\u001b[35m   0.09842617480538117   \u001b[0m\u001b[35m \u001b[0m│\n",
       "└───────────────────────────┴───────────────────────────┴───────────────────────────┴───────────────────────────┘\n"
      ]
     },
     "metadata": {},
     "output_type": "display_data"
    },
    {
     "data": {
      "text/plain": [
       "[{'test_loss/dataloader_idx_0': 0.03938731258060311},\n",
       " {'test_loss/dataloader_idx_1': 0.05907154347426737},\n",
       " {'test_loss/dataloader_idx_2': 0.07059815582702761},\n",
       " {'test_loss/dataloader_idx_3': 0.05236804174457443},\n",
       " {'test_loss/dataloader_idx_4': 0.06769312220450134},\n",
       " {'test_loss/dataloader_idx_5': 0.09842617480538117}]"
      ]
     },
     "execution_count": 32,
     "metadata": {},
     "output_type": "execute_result"
    }
   ],
   "source": [
    "trainer.test(ckpt_path=\"best\", datamodule=dm)"
   ]
  },
  {
   "cell_type": "code",
   "execution_count": 26,
   "metadata": {},
   "outputs": [],
   "source": [
    "results = trainer.model.results"
   ]
  },
  {
   "cell_type": "code",
   "execution_count": 27,
   "metadata": {},
   "outputs": [],
   "source": [
    "results[[\"Centre\", \"batch_idx\"]] = results.iloc[:, :2].astype(int)"
   ]
  },
  {
   "cell_type": "code",
   "execution_count": 28,
   "metadata": {},
   "outputs": [
    {
     "data": {
      "text/html": [
       "<div>\n",
       "<style scoped>\n",
       "    .dataframe tbody tr th:only-of-type {\n",
       "        vertical-align: middle;\n",
       "    }\n",
       "\n",
       "    .dataframe tbody tr th {\n",
       "        vertical-align: top;\n",
       "    }\n",
       "\n",
       "    .dataframe thead th {\n",
       "        text-align: right;\n",
       "    }\n",
       "</style>\n",
       "<table border=\"1\" class=\"dataframe\">\n",
       "  <thead>\n",
       "    <tr style=\"text-align: right;\">\n",
       "      <th></th>\n",
       "      <th>Centre</th>\n",
       "      <th>batch_idx</th>\n",
       "      <th>Dice_BG_ED</th>\n",
       "      <th>Dice_LV_ED</th>\n",
       "      <th>Dice_MYO_ED</th>\n",
       "      <th>Dice_RV_ED</th>\n",
       "      <th>Dice_BG_ES</th>\n",
       "      <th>Dice_LV_ES</th>\n",
       "      <th>Dice_MYO_ES</th>\n",
       "      <th>Dice_RV_ES</th>\n",
       "      <th>IoU_BG_ED</th>\n",
       "      <th>IoU_LV_ED</th>\n",
       "      <th>IoU_MYO_ED</th>\n",
       "      <th>IoU_RV_ED</th>\n",
       "      <th>IoU_BG_ES</th>\n",
       "      <th>IoU_LV_ES</th>\n",
       "      <th>IoU_MYO_ES</th>\n",
       "      <th>IoU_RV_ES</th>\n",
       "    </tr>\n",
       "  </thead>\n",
       "  <tbody>\n",
       "    <tr>\n",
       "      <th>0</th>\n",
       "      <td>0</td>\n",
       "      <td>0</td>\n",
       "      <td>0.988747</td>\n",
       "      <td>0.831898</td>\n",
       "      <td>0.799259</td>\n",
       "      <td>0.905956</td>\n",
       "      <td>0.977744</td>\n",
       "      <td>0.712179</td>\n",
       "      <td>0.665638</td>\n",
       "      <td>0.828080</td>\n",
       "      <td>0.990050</td>\n",
       "      <td>0.771506</td>\n",
       "      <td>0.790560</td>\n",
       "      <td>0.863945</td>\n",
       "      <td>0.980297</td>\n",
       "      <td>0.628009</td>\n",
       "      <td>0.653658</td>\n",
       "      <td>0.760477</td>\n",
       "    </tr>\n",
       "    <tr>\n",
       "      <th>1</th>\n",
       "      <td>0</td>\n",
       "      <td>1</td>\n",
       "      <td>0.996239</td>\n",
       "      <td>0.966309</td>\n",
       "      <td>0.876440</td>\n",
       "      <td>0.948900</td>\n",
       "      <td>0.992506</td>\n",
       "      <td>0.934813</td>\n",
       "      <td>0.780056</td>\n",
       "      <td>0.902769</td>\n",
       "      <td>0.994879</td>\n",
       "      <td>0.828447</td>\n",
       "      <td>0.837788</td>\n",
       "      <td>0.933456</td>\n",
       "      <td>0.989810</td>\n",
       "      <td>0.707136</td>\n",
       "      <td>0.720856</td>\n",
       "      <td>0.875216</td>\n",
       "    </tr>\n",
       "    <tr>\n",
       "      <th>2</th>\n",
       "      <td>0</td>\n",
       "      <td>2</td>\n",
       "      <td>0.994562</td>\n",
       "      <td>0.944106</td>\n",
       "      <td>0.875126</td>\n",
       "      <td>0.913029</td>\n",
       "      <td>0.989184</td>\n",
       "      <td>0.894130</td>\n",
       "      <td>0.777977</td>\n",
       "      <td>0.839975</td>\n",
       "      <td>0.993235</td>\n",
       "      <td>0.875850</td>\n",
       "      <td>0.797721</td>\n",
       "      <td>0.884424</td>\n",
       "      <td>0.986561</td>\n",
       "      <td>0.779122</td>\n",
       "      <td>0.663508</td>\n",
       "      <td>0.792795</td>\n",
       "    </tr>\n",
       "    <tr>\n",
       "      <th>3</th>\n",
       "      <td>0</td>\n",
       "      <td>3</td>\n",
       "      <td>0.991603</td>\n",
       "      <td>0.958498</td>\n",
       "      <td>0.851777</td>\n",
       "      <td>0.895070</td>\n",
       "      <td>0.983346</td>\n",
       "      <td>0.920303</td>\n",
       "      <td>0.741821</td>\n",
       "      <td>0.810069</td>\n",
       "      <td>0.993229</td>\n",
       "      <td>0.966327</td>\n",
       "      <td>0.838127</td>\n",
       "      <td>0.836163</td>\n",
       "      <td>0.986549</td>\n",
       "      <td>0.934847</td>\n",
       "      <td>0.721359</td>\n",
       "      <td>0.718454</td>\n",
       "    </tr>\n",
       "    <tr>\n",
       "      <th>4</th>\n",
       "      <td>0</td>\n",
       "      <td>4</td>\n",
       "      <td>0.992211</td>\n",
       "      <td>0.953330</td>\n",
       "      <td>0.804658</td>\n",
       "      <td>0.912997</td>\n",
       "      <td>0.984543</td>\n",
       "      <td>0.910821</td>\n",
       "      <td>0.673161</td>\n",
       "      <td>0.839922</td>\n",
       "      <td>0.996332</td>\n",
       "      <td>0.874359</td>\n",
       "      <td>0.842740</td>\n",
       "      <td>0.897663</td>\n",
       "      <td>0.992691</td>\n",
       "      <td>0.776766</td>\n",
       "      <td>0.728220</td>\n",
       "      <td>0.814327</td>\n",
       "    </tr>\n",
       "    <tr>\n",
       "      <th>...</th>\n",
       "      <td>...</td>\n",
       "      <td>...</td>\n",
       "      <td>...</td>\n",
       "      <td>...</td>\n",
       "      <td>...</td>\n",
       "      <td>...</td>\n",
       "      <td>...</td>\n",
       "      <td>...</td>\n",
       "      <td>...</td>\n",
       "      <td>...</td>\n",
       "      <td>...</td>\n",
       "      <td>...</td>\n",
       "      <td>...</td>\n",
       "      <td>...</td>\n",
       "      <td>...</td>\n",
       "      <td>...</td>\n",
       "      <td>...</td>\n",
       "      <td>...</td>\n",
       "    </tr>\n",
       "    <tr>\n",
       "      <th>312</th>\n",
       "      <td>5</td>\n",
       "      <td>45</td>\n",
       "      <td>0.985826</td>\n",
       "      <td>0.842664</td>\n",
       "      <td>0.710956</td>\n",
       "      <td>0.876743</td>\n",
       "      <td>0.972048</td>\n",
       "      <td>0.728107</td>\n",
       "      <td>0.551537</td>\n",
       "      <td>0.780536</td>\n",
       "      <td>0.981116</td>\n",
       "      <td>0.727385</td>\n",
       "      <td>0.515544</td>\n",
       "      <td>0.670845</td>\n",
       "      <td>0.962932</td>\n",
       "      <td>0.571567</td>\n",
       "      <td>0.347295</td>\n",
       "      <td>0.504716</td>\n",
       "    </tr>\n",
       "    <tr>\n",
       "      <th>313</th>\n",
       "      <td>5</td>\n",
       "      <td>46</td>\n",
       "      <td>0.978904</td>\n",
       "      <td>0.844623</td>\n",
       "      <td>0.760518</td>\n",
       "      <td>0.784623</td>\n",
       "      <td>0.958679</td>\n",
       "      <td>0.731036</td>\n",
       "      <td>0.613577</td>\n",
       "      <td>0.645581</td>\n",
       "      <td>0.981182</td>\n",
       "      <td>0.721175</td>\n",
       "      <td>0.646057</td>\n",
       "      <td>0.634754</td>\n",
       "      <td>0.963059</td>\n",
       "      <td>0.563936</td>\n",
       "      <td>0.477167</td>\n",
       "      <td>0.464938</td>\n",
       "    </tr>\n",
       "    <tr>\n",
       "      <th>314</th>\n",
       "      <td>5</td>\n",
       "      <td>47</td>\n",
       "      <td>0.989500</td>\n",
       "      <td>0.933935</td>\n",
       "      <td>0.756554</td>\n",
       "      <td>0.916756</td>\n",
       "      <td>0.979219</td>\n",
       "      <td>0.876058</td>\n",
       "      <td>0.608433</td>\n",
       "      <td>0.846307</td>\n",
       "      <td>0.991364</td>\n",
       "      <td>0.917394</td>\n",
       "      <td>0.768554</td>\n",
       "      <td>0.847928</td>\n",
       "      <td>0.982876</td>\n",
       "      <td>0.847395</td>\n",
       "      <td>0.624107</td>\n",
       "      <td>0.736002</td>\n",
       "    </tr>\n",
       "    <tr>\n",
       "      <th>315</th>\n",
       "      <td>5</td>\n",
       "      <td>48</td>\n",
       "      <td>0.992171</td>\n",
       "      <td>0.943271</td>\n",
       "      <td>0.752622</td>\n",
       "      <td>0.911907</td>\n",
       "      <td>0.984463</td>\n",
       "      <td>0.892633</td>\n",
       "      <td>0.603363</td>\n",
       "      <td>0.838078</td>\n",
       "      <td>0.988841</td>\n",
       "      <td>0.894372</td>\n",
       "      <td>0.752053</td>\n",
       "      <td>0.757256</td>\n",
       "      <td>0.977928</td>\n",
       "      <td>0.808926</td>\n",
       "      <td>0.602632</td>\n",
       "      <td>0.609342</td>\n",
       "    </tr>\n",
       "    <tr>\n",
       "      <th>316</th>\n",
       "      <td>5</td>\n",
       "      <td>49</td>\n",
       "      <td>0.982496</td>\n",
       "      <td>0.927244</td>\n",
       "      <td>0.641328</td>\n",
       "      <td>0.780588</td>\n",
       "      <td>0.965595</td>\n",
       "      <td>0.864358</td>\n",
       "      <td>0.472026</td>\n",
       "      <td>0.640135</td>\n",
       "      <td>0.978124</td>\n",
       "      <td>0.850155</td>\n",
       "      <td>0.382313</td>\n",
       "      <td>0.797069</td>\n",
       "      <td>0.957185</td>\n",
       "      <td>0.739365</td>\n",
       "      <td>0.236333</td>\n",
       "      <td>0.662605</td>\n",
       "    </tr>\n",
       "  </tbody>\n",
       "</table>\n",
       "<p>317 rows × 18 columns</p>\n",
       "</div>"
      ],
      "text/plain": [
       "     Centre  batch_idx  Dice_BG_ED  Dice_LV_ED  Dice_MYO_ED  Dice_RV_ED  \\\n",
       "0         0          0    0.988747    0.831898     0.799259    0.905956   \n",
       "1         0          1    0.996239    0.966309     0.876440    0.948900   \n",
       "2         0          2    0.994562    0.944106     0.875126    0.913029   \n",
       "3         0          3    0.991603    0.958498     0.851777    0.895070   \n",
       "4         0          4    0.992211    0.953330     0.804658    0.912997   \n",
       "..      ...        ...         ...         ...          ...         ...   \n",
       "312       5         45    0.985826    0.842664     0.710956    0.876743   \n",
       "313       5         46    0.978904    0.844623     0.760518    0.784623   \n",
       "314       5         47    0.989500    0.933935     0.756554    0.916756   \n",
       "315       5         48    0.992171    0.943271     0.752622    0.911907   \n",
       "316       5         49    0.982496    0.927244     0.641328    0.780588   \n",
       "\n",
       "     Dice_BG_ES  Dice_LV_ES  Dice_MYO_ES  Dice_RV_ES  IoU_BG_ED  IoU_LV_ED  \\\n",
       "0      0.977744    0.712179     0.665638    0.828080   0.990050   0.771506   \n",
       "1      0.992506    0.934813     0.780056    0.902769   0.994879   0.828447   \n",
       "2      0.989184    0.894130     0.777977    0.839975   0.993235   0.875850   \n",
       "3      0.983346    0.920303     0.741821    0.810069   0.993229   0.966327   \n",
       "4      0.984543    0.910821     0.673161    0.839922   0.996332   0.874359   \n",
       "..          ...         ...          ...         ...        ...        ...   \n",
       "312    0.972048    0.728107     0.551537    0.780536   0.981116   0.727385   \n",
       "313    0.958679    0.731036     0.613577    0.645581   0.981182   0.721175   \n",
       "314    0.979219    0.876058     0.608433    0.846307   0.991364   0.917394   \n",
       "315    0.984463    0.892633     0.603363    0.838078   0.988841   0.894372   \n",
       "316    0.965595    0.864358     0.472026    0.640135   0.978124   0.850155   \n",
       "\n",
       "     IoU_MYO_ED  IoU_RV_ED  IoU_BG_ES  IoU_LV_ES  IoU_MYO_ES  IoU_RV_ES  \n",
       "0      0.790560   0.863945   0.980297   0.628009    0.653658   0.760477  \n",
       "1      0.837788   0.933456   0.989810   0.707136    0.720856   0.875216  \n",
       "2      0.797721   0.884424   0.986561   0.779122    0.663508   0.792795  \n",
       "3      0.838127   0.836163   0.986549   0.934847    0.721359   0.718454  \n",
       "4      0.842740   0.897663   0.992691   0.776766    0.728220   0.814327  \n",
       "..          ...        ...        ...        ...         ...        ...  \n",
       "312    0.515544   0.670845   0.962932   0.571567    0.347295   0.504716  \n",
       "313    0.646057   0.634754   0.963059   0.563936    0.477167   0.464938  \n",
       "314    0.768554   0.847928   0.982876   0.847395    0.624107   0.736002  \n",
       "315    0.752053   0.757256   0.977928   0.808926    0.602632   0.609342  \n",
       "316    0.382313   0.797069   0.957185   0.739365    0.236333   0.662605  \n",
       "\n",
       "[317 rows x 18 columns]"
      ]
     },
     "execution_count": 28,
     "metadata": {},
     "output_type": "execute_result"
    }
   ],
   "source": [
    "results"
   ]
  },
  {
   "cell_type": "code",
   "execution_count": 29,
   "metadata": {},
   "outputs": [],
   "source": [
    "results.to_csv(\"results/results.csv\", index=False)"
   ]
  },
  {
   "cell_type": "code",
   "execution_count": 30,
   "metadata": {},
   "outputs": [],
   "source": [
    "results = pd.read_csv(\"results/results.csv\")"
   ]
  }
 ],
 "metadata": {
  "kernelspec": {
   "display_name": ".venv",
   "language": "python",
   "name": "python3"
  },
  "language_info": {
   "codemirror_mode": {
    "name": "ipython",
    "version": 3
   },
   "file_extension": ".py",
   "mimetype": "text/x-python",
   "name": "python",
   "nbconvert_exporter": "python",
   "pygments_lexer": "ipython3",
   "version": "3.10.6"
  },
  "orig_nbformat": 4
 },
 "nbformat": 4,
 "nbformat_minor": 2
}
