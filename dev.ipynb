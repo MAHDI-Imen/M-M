{
 "cells": [
  {
   "cell_type": "markdown",
   "metadata": {},
   "source": [
    "# DEV"
   ]
  },
  {
   "cell_type": "code",
   "execution_count": 1,
   "metadata": {},
   "outputs": [],
   "source": [
    "%load_ext autoreload\n",
    "%autoreload 2"
   ]
  },
  {
   "cell_type": "code",
   "execution_count": 2,
   "metadata": {},
   "outputs": [
    {
     "name": "stderr",
     "output_type": "stream",
     "text": [
      "/home/ids/mahdi-22/M-M/.venv/lib/python3.10/site-packages/tqdm/auto.py:21: TqdmWarning: IProgress not found. Please update jupyter and ipywidgets. See https://ipywidgets.readthedocs.io/en/stable/user_install.html\n",
      "  from .autonotebook import tqdm as notebook_tqdm\n",
      "Global seed set to 42\n",
      "Failed to detect the name of this notebook, you can set it manually with the WANDB_NOTEBOOK_NAME environment variable to enable code saving.\n",
      "\u001b[34m\u001b[1mwandb\u001b[0m: Currently logged in as: \u001b[33mimen-mahdi\u001b[0m. Use \u001b[1m`wandb login --relogin`\u001b[0m to force relogin\n"
     ]
    },
    {
     "data": {
      "text/html": [
       "Tracking run with wandb version 0.15.7"
      ],
      "text/plain": [
       "<IPython.core.display.HTML object>"
      ]
     },
     "metadata": {},
     "output_type": "display_data"
    },
    {
     "data": {
      "text/html": [
       "Run data is saved locally in <code>./wandb/run-20230801_183447-068sif0b</code>"
      ],
      "text/plain": [
       "<IPython.core.display.HTML object>"
      ]
     },
     "metadata": {},
     "output_type": "display_data"
    },
    {
     "data": {
      "text/html": [
       "Syncing run <strong><a href='https://wandb.ai/imen-mahdi/M-M/runs/068sif0b' target=\"_blank\">benchmark</a></strong> to <a href='https://wandb.ai/imen-mahdi/M-M' target=\"_blank\">Weights & Biases</a> (<a href='https://wandb.me/run' target=\"_blank\">docs</a>)<br/>"
      ],
      "text/plain": [
       "<IPython.core.display.HTML object>"
      ]
     },
     "metadata": {},
     "output_type": "display_data"
    },
    {
     "data": {
      "text/html": [
       " View project at <a href='https://wandb.ai/imen-mahdi/M-M' target=\"_blank\">https://wandb.ai/imen-mahdi/M-M</a>"
      ],
      "text/plain": [
       "<IPython.core.display.HTML object>"
      ]
     },
     "metadata": {},
     "output_type": "display_data"
    },
    {
     "data": {
      "text/html": [
       " View run at <a href='https://wandb.ai/imen-mahdi/M-M/runs/068sif0b' target=\"_blank\">https://wandb.ai/imen-mahdi/M-M/runs/068sif0b</a>"
      ],
      "text/plain": [
       "<IPython.core.display.HTML object>"
      ]
     },
     "metadata": {},
     "output_type": "display_data"
    },
    {
     "name": "stderr",
     "output_type": "stream",
     "text": [
      "/home/ids/mahdi-22/M-M/.venv/lib/python3.10/site-packages/lightning_fabric/plugins/environments/slurm.py:165: PossibleUserWarning: The `srun` command is available on your system but is not used. HINT: If your intention is to run Lightning on SLURM, prepend your python command with `srun` like so: srun python /home/ids/mahdi-22/M-M/.venv/lib/python3.10/site-pac ...\n",
      "  rank_zero_warn(\n",
      "GPU available: True (cuda), used: True\n",
      "TPU available: False, using: 0 TPU cores\n",
      "IPU available: False, using: 0 IPUs\n",
      "HPU available: False, using: 0 HPUs\n",
      "/home/ids/mahdi-22/M-M/.venv/lib/python3.10/site-packages/lightning_fabric/plugins/environments/slurm.py:165: PossibleUserWarning: The `srun` command is available on your system but is not used. HINT: If your intention is to run Lightning on SLURM, prepend your python command with `srun` like so: srun python /home/ids/mahdi-22/M-M/.venv/lib/python3.10/site-pac ...\n",
      "  rank_zero_warn(\n"
     ]
    },
    {
     "name": "stdout",
     "output_type": "stream",
     "text": [
      "total number of samples: 95, train samples: 66, Validation: 29\n",
      "Loading Images for centre:  0\n",
      "Loading Labels for centre:  0\n"
     ]
    },
    {
     "name": "stderr",
     "output_type": "stream",
     "text": [
      "100%|██████████| 66/66 [00:01<00:00, 38.92File/s]\n",
      "100%|██████████| 66/66 [00:00<00:00, 73.29File/s]\n"
     ]
    },
    {
     "name": "stdout",
     "output_type": "stream",
     "text": [
      "Loading Images for centre:  1\n",
      "Loading Labels for centre:  1\n"
     ]
    },
    {
     "name": "stderr",
     "output_type": "stream",
     "text": [
      "100%|██████████| 29/29 [00:00<00:00, 43.95File/s]\n",
      "100%|██████████| 29/29 [00:00<00:00, 75.02File/s]\n",
      "LOCAL_RANK: 0 - CUDA_VISIBLE_DEVICES: [0]\n"
     ]
    },
    {
     "name": "stdout",
     "output_type": "stream",
     "text": [
      "Epoch 10: 100%|██████████| 195/195 [00:06<00:00, 28.30it/s, v_num=if0b, val_loss=0.0591, train_loss=0.0395]\n",
      "Loading Images for centre:  0\n",
      "Loading Labels for centre:  0\n"
     ]
    },
    {
     "name": "stderr",
     "output_type": "stream",
     "text": [
      "100%|██████████| 66/66 [00:01<00:00, 38.37File/s]\n",
      "100%|██████████| 66/66 [00:00<00:00, 66.90File/s]\n"
     ]
    },
    {
     "name": "stdout",
     "output_type": "stream",
     "text": [
      "Loading Images for centre:  1\n",
      "Loading Labels for centre:  1\n"
     ]
    },
    {
     "name": "stderr",
     "output_type": "stream",
     "text": [
      "100%|██████████| 29/29 [00:00<00:00, 40.78File/s]\n",
      "100%|██████████| 29/29 [00:00<00:00, 68.00File/s]\n"
     ]
    },
    {
     "name": "stdout",
     "output_type": "stream",
     "text": [
      "Loading Images for centre:  2\n",
      "Loading Labels for centre:  2\n"
     ]
    },
    {
     "name": "stderr",
     "output_type": "stream",
     "text": [
      "100%|██████████| 74/74 [00:01<00:00, 40.75File/s]\n",
      "100%|██████████| 74/74 [00:01<00:00, 60.21File/s]\n"
     ]
    },
    {
     "name": "stdout",
     "output_type": "stream",
     "text": [
      "Loading Images for centre:  3\n",
      "Loading Labels for centre:  3\n"
     ]
    },
    {
     "name": "stderr",
     "output_type": "stream",
     "text": [
      "100%|██████████| 51/51 [00:01<00:00, 40.62File/s]\n",
      "100%|██████████| 51/51 [00:00<00:00, 68.30File/s]\n"
     ]
    },
    {
     "name": "stdout",
     "output_type": "stream",
     "text": [
      "Loading Images for centre:  4\n",
      "Loading Labels for centre:  4\n"
     ]
    },
    {
     "name": "stderr",
     "output_type": "stream",
     "text": [
      "100%|██████████| 47/47 [00:01<00:00, 38.30File/s]\n",
      "100%|██████████| 47/47 [00:00<00:00, 60.92File/s]\n"
     ]
    },
    {
     "name": "stdout",
     "output_type": "stream",
     "text": [
      "Loading Images for centre:  5\n",
      "Loading Labels for centre:  5\n"
     ]
    },
    {
     "name": "stderr",
     "output_type": "stream",
     "text": [
      "100%|██████████| 50/50 [00:01<00:00, 26.42File/s]\n",
      "100%|██████████| 50/50 [00:01<00:00, 44.49File/s]\n",
      "Restoring states from the checkpoint path at ./M-M/068sif0b/checkpoints/epoch=10-step=2145.ckpt\n",
      "LOCAL_RANK: 0 - CUDA_VISIBLE_DEVICES: [0]\n",
      "Loaded model weights from the checkpoint at ./M-M/068sif0b/checkpoints/epoch=10-step=2145.ckpt\n"
     ]
    },
    {
     "name": "stdout",
     "output_type": "stream",
     "text": [
      "Testing DataLoader 5: 100%|██████████| 50/50 [00:03<00:00, 14.20it/s]\n"
     ]
    },
    {
     "data": {
      "text/html": [
       "<pre style=\"white-space:pre;overflow-x:auto;line-height:normal;font-family:Menlo,'DejaVu Sans Mono',consolas,'Courier New',monospace\">┏━━━━━━━━━━━━━━━━━━━━━━━━━━━┳━━━━━━━━━━━━━━━━━━━━━━━━━━━┳━━━━━━━━━━━━━━━━━━━━━━━━━━━┳━━━━━━━━━━━━━━━━━━━━━━━━━━━┓\n",
       "┃<span style=\"font-weight: bold\">        Test metric        </span>┃<span style=\"font-weight: bold\">       DataLoader 0        </span>┃<span style=\"font-weight: bold\">       DataLoader 1        </span>┃<span style=\"font-weight: bold\">       DataLoader 2        </span>┃\n",
       "┡━━━━━━━━━━━━━━━━━━━━━━━━━━━╇━━━━━━━━━━━━━━━━━━━━━━━━━━━╇━━━━━━━━━━━━━━━━━━━━━━━━━━━╇━━━━━━━━━━━━━━━━━━━━━━━━━━━┩\n",
       "│<span style=\"color: #008080; text-decoration-color: #008080\">         test_loss         </span>│<span style=\"color: #800080; text-decoration-color: #800080\">    0.03938731258060311    </span>│<span style=\"color: #800080; text-decoration-color: #800080\">    0.05907154347426737    </span>│<span style=\"color: #800080; text-decoration-color: #800080\">    0.07059815582702761    </span>│\n",
       "└───────────────────────────┴───────────────────────────┴───────────────────────────┴───────────────────────────┘\n",
       "</pre>\n"
      ],
      "text/plain": [
       "┏━━━━━━━━━━━━━━━━━━━━━━━━━━━┳━━━━━━━━━━━━━━━━━━━━━━━━━━━┳━━━━━━━━━━━━━━━━━━━━━━━━━━━┳━━━━━━━━━━━━━━━━━━━━━━━━━━━┓\n",
       "┃\u001b[1m \u001b[0m\u001b[1m       Test metric       \u001b[0m\u001b[1m \u001b[0m┃\u001b[1m \u001b[0m\u001b[1m      DataLoader 0       \u001b[0m\u001b[1m \u001b[0m┃\u001b[1m \u001b[0m\u001b[1m      DataLoader 1       \u001b[0m\u001b[1m \u001b[0m┃\u001b[1m \u001b[0m\u001b[1m      DataLoader 2       \u001b[0m\u001b[1m \u001b[0m┃\n",
       "┡━━━━━━━━━━━━━━━━━━━━━━━━━━━╇━━━━━━━━━━━━━━━━━━━━━━━━━━━╇━━━━━━━━━━━━━━━━━━━━━━━━━━━╇━━━━━━━━━━━━━━━━━━━━━━━━━━━┩\n",
       "│\u001b[36m \u001b[0m\u001b[36m        test_loss        \u001b[0m\u001b[36m \u001b[0m│\u001b[35m \u001b[0m\u001b[35m   0.03938731258060311   \u001b[0m\u001b[35m \u001b[0m│\u001b[35m \u001b[0m\u001b[35m   0.05907154347426737   \u001b[0m\u001b[35m \u001b[0m│\u001b[35m \u001b[0m\u001b[35m   0.07059815582702761   \u001b[0m\u001b[35m \u001b[0m│\n",
       "└───────────────────────────┴───────────────────────────┴───────────────────────────┴───────────────────────────┘\n"
      ]
     },
     "metadata": {},
     "output_type": "display_data"
    },
    {
     "data": {
      "text/html": [
       "<pre style=\"white-space:pre;overflow-x:auto;line-height:normal;font-family:Menlo,'DejaVu Sans Mono',consolas,'Courier New',monospace\">┏━━━━━━━━━━━━━━━━━━━━━━━━━━━┳━━━━━━━━━━━━━━━━━━━━━━━━━━━┳━━━━━━━━━━━━━━━━━━━━━━━━━━━┳━━━━━━━━━━━━━━━━━━━━━━━━━━━┓\n",
       "┃<span style=\"font-weight: bold\">        Test metric        </span>┃<span style=\"font-weight: bold\">       DataLoader 3        </span>┃<span style=\"font-weight: bold\">       DataLoader 4        </span>┃<span style=\"font-weight: bold\">       DataLoader 5        </span>┃\n",
       "┡━━━━━━━━━━━━━━━━━━━━━━━━━━━╇━━━━━━━━━━━━━━━━━━━━━━━━━━━╇━━━━━━━━━━━━━━━━━━━━━━━━━━━╇━━━━━━━━━━━━━━━━━━━━━━━━━━━┩\n",
       "│<span style=\"color: #008080; text-decoration-color: #008080\">         test_loss         </span>│<span style=\"color: #800080; text-decoration-color: #800080\">    0.05236804174457443    </span>│<span style=\"color: #800080; text-decoration-color: #800080\">    0.06769312220450134    </span>│<span style=\"color: #800080; text-decoration-color: #800080\">    0.09842617480538117    </span>│\n",
       "└───────────────────────────┴───────────────────────────┴───────────────────────────┴───────────────────────────┘\n",
       "</pre>\n"
      ],
      "text/plain": [
       "┏━━━━━━━━━━━━━━━━━━━━━━━━━━━┳━━━━━━━━━━━━━━━━━━━━━━━━━━━┳━━━━━━━━━━━━━━━━━━━━━━━━━━━┳━━━━━━━━━━━━━━━━━━━━━━━━━━━┓\n",
       "┃\u001b[1m \u001b[0m\u001b[1m       Test metric       \u001b[0m\u001b[1m \u001b[0m┃\u001b[1m \u001b[0m\u001b[1m      DataLoader 3       \u001b[0m\u001b[1m \u001b[0m┃\u001b[1m \u001b[0m\u001b[1m      DataLoader 4       \u001b[0m\u001b[1m \u001b[0m┃\u001b[1m \u001b[0m\u001b[1m      DataLoader 5       \u001b[0m\u001b[1m \u001b[0m┃\n",
       "┡━━━━━━━━━━━━━━━━━━━━━━━━━━━╇━━━━━━━━━━━━━━━━━━━━━━━━━━━╇━━━━━━━━━━━━━━━━━━━━━━━━━━━╇━━━━━━━━━━━━━━━━━━━━━━━━━━━┩\n",
       "│\u001b[36m \u001b[0m\u001b[36m        test_loss        \u001b[0m\u001b[36m \u001b[0m│\u001b[35m \u001b[0m\u001b[35m   0.05236804174457443   \u001b[0m\u001b[35m \u001b[0m│\u001b[35m \u001b[0m\u001b[35m   0.06769312220450134   \u001b[0m\u001b[35m \u001b[0m│\u001b[35m \u001b[0m\u001b[35m   0.09842617480538117   \u001b[0m\u001b[35m \u001b[0m│\n",
       "└───────────────────────────┴───────────────────────────┴───────────────────────────┴───────────────────────────┘\n"
      ]
     },
     "metadata": {},
     "output_type": "display_data"
    },
    {
     "data": {
      "text/html": [
       "Waiting for W&B process to finish... <strong style=\"color:green\">(success).</strong>"
      ],
      "text/plain": [
       "<IPython.core.display.HTML object>"
      ]
     },
     "metadata": {},
     "output_type": "display_data"
    },
    {
     "name": "stderr",
     "output_type": "stream",
     "text": [
      "wandb: Network error (TransientError), entering retry loop.\n",
      "wandb: Network error (TransientError), entering retry loop.\n",
      "wandb: Network error (TransientError), entering retry loop.\n",
      "wandb: Network error (TransientError), entering retry loop.\n",
      "wandb: Network error (TransientError), entering retry loop.\n",
      "wandb: Network error (TransientError), entering retry loop.\n",
      "wandb: Network error (TransientError), entering retry loop.\n",
      "wandb: Network error (TransientError), entering retry loop.\n",
      "wandb: Network error (TransientError), entering retry loop.\n",
      "wandb: Network error (TransientError), entering retry loop.\n",
      "wandb: Network error (TransientError), entering retry loop.\n",
      "wandb: Network error (TransientError), entering retry loop.\n",
      "wandb: Network error (TransientError), entering retry loop.\n",
      "wandb: Network error (TransientError), entering retry loop.\n",
      "wandb: Network error (TransientError), entering retry loop.\n",
      "wandb: Network error (TransientError), entering retry loop.\n",
      "wandb: Network error (TransientError), entering retry loop.\n",
      "wandb: Network error (TransientError), entering retry loop.\n",
      "wandb: Network error (TransientError), entering retry loop.\n",
      "wandb: Network error (TransientError), entering retry loop.\n",
      "wandb: Network error (TransientError), entering retry loop.\n",
      "wandb: Network error (TransientError), entering retry loop.\n",
      "wandb: Network error (TransientError), entering retry loop.\n",
      "wandb: Network error (TransientError), entering retry loop.\n",
      "wandb: Network error (TransientError), entering retry loop.\n",
      "wandb: Network error (TransientError), entering retry loop.\n",
      "wandb: Network error (TransientError), entering retry loop.\n",
      "wandb: Network error (TransientError), entering retry loop.\n",
      "wandb: Network error (TransientError), entering retry loop.\n",
      "wandb: Network error (TransientError), entering retry loop.\n",
      "wandb: Network error (TransientError), entering retry loop.\n",
      "wandb: Network error (TransientError), entering retry loop.\n",
      "wandb: Network error (TransientError), entering retry loop.\n",
      "wandb: Network error (TransientError), entering retry loop.\n",
      "wandb: Network error (TransientError), entering retry loop.\n",
      "wandb: Network error (TransientError), entering retry loop.\n",
      "wandb: Network error (TransientError), entering retry loop.\n",
      "wandb: Network error (TransientError), entering retry loop.\n",
      "wandb: Network error (TransientError), entering retry loop.\n",
      "wandb: Network error (TransientError), entering retry loop.\n"
     ]
    },
    {
     "data": {
      "text/html": [
       "<style>\n",
       "    table.wandb td:nth-child(1) { padding: 0 10px; text-align: left ; width: auto;} td:nth-child(2) {text-align: left ; width: 100%}\n",
       "    .wandb-row { display: flex; flex-direction: row; flex-wrap: wrap; justify-content: flex-start; width: 100% }\n",
       "    .wandb-col { display: flex; flex-direction: column; flex-basis: 100%; flex: 1; padding: 10px; }\n",
       "    </style>\n",
       "<div class=\"wandb-row\"><div class=\"wandb-col\"><h3>Run history:</h3><br/><table class=\"wandb\"><tr><td>epoch</td><td>▁▁▂▂▂▂▃▃▄▄▄▄▅▅▅▅▆▆▇▇▇▇█</td></tr><tr><td>test_loss/dataloader_idx_0</td><td>▁</td></tr><tr><td>test_loss/dataloader_idx_1</td><td>▁</td></tr><tr><td>test_loss/dataloader_idx_2</td><td>▁</td></tr><tr><td>test_loss/dataloader_idx_3</td><td>▁</td></tr><tr><td>test_loss/dataloader_idx_4</td><td>▁</td></tr><tr><td>test_loss/dataloader_idx_5</td><td>▁</td></tr><tr><td>train_loss</td><td>█▃▂▂▂▁▁▁▁▁▁</td></tr><tr><td>trainer/global_step</td><td>▁▁▂▂▂▂▃▃▄▄▄▄▅▅▆▆▇▇▇▇████</td></tr><tr><td>val_loss</td><td>█▆▄▃▃▂▂▁▁▁▁</td></tr></table><br/></div><div class=\"wandb-col\"><h3>Run summary:</h3><br/><table class=\"wandb\"><tr><td>epoch</td><td>11</td></tr><tr><td>test_loss/dataloader_idx_0</td><td>0.03939</td></tr><tr><td>test_loss/dataloader_idx_1</td><td>0.05907</td></tr><tr><td>test_loss/dataloader_idx_2</td><td>0.0706</td></tr><tr><td>test_loss/dataloader_idx_3</td><td>0.05237</td></tr><tr><td>test_loss/dataloader_idx_4</td><td>0.06769</td></tr><tr><td>test_loss/dataloader_idx_5</td><td>0.09843</td></tr><tr><td>train_loss</td><td>0.03951</td></tr><tr><td>trainer/global_step</td><td>2145</td></tr><tr><td>val_loss</td><td>0.05907</td></tr></table><br/></div></div>"
      ],
      "text/plain": [
       "<IPython.core.display.HTML object>"
      ]
     },
     "metadata": {},
     "output_type": "display_data"
    },
    {
     "data": {
      "text/html": [
       " View run <strong style=\"color:#cdcd00\">benchmark</strong> at: <a href='https://wandb.ai/imen-mahdi/M-M/runs/068sif0b' target=\"_blank\">https://wandb.ai/imen-mahdi/M-M/runs/068sif0b</a><br/>Synced 5 W&B file(s), 1 media file(s), 345 artifact file(s) and 0 other file(s)"
      ],
      "text/plain": [
       "<IPython.core.display.HTML object>"
      ]
     },
     "metadata": {},
     "output_type": "display_data"
    },
    {
     "data": {
      "text/html": [
       "Find logs at: <code>./wandb/run-20230801_183447-068sif0b/logs</code>"
      ],
      "text/plain": [
       "<IPython.core.display.HTML object>"
      ]
     },
     "metadata": {},
     "output_type": "display_data"
    },
    {
     "name": "stdout",
     "output_type": "stream",
     "text": [
      "        Dice_BG_ED  Dice_LV_ED  Dice_MYO_ED  Dice_RV_ED  Dice_BG_ES  \\\n",
      "Centre                                                                \n",
      "0         0.993290    0.940612     0.849978    0.930427    0.986684   \n",
      "1         0.990437    0.930794     0.820563    0.883255    0.981092   \n",
      "2         0.989421    0.932393     0.811372    0.886268    0.979106   \n",
      "3         0.991206    0.941486     0.807861    0.900284    0.982585   \n",
      "4         0.989054    0.902708     0.762772    0.805422    0.978410   \n",
      "5         0.984946    0.905221     0.738920    0.845856    0.970413   \n",
      "\n",
      "        Dice_LV_ES  Dice_MYO_ES  Dice_RV_ES  IoU_BG_ED  IoU_LV_ED  IoU_MYO_ED  \\\n",
      "Centre                                                                          \n",
      "0         0.890891     0.740513    0.870616   0.994402   0.898021    0.829610   \n",
      "1         0.872118     0.698550    0.796389   0.991008   0.846745    0.787373   \n",
      "2         0.874937     0.686152    0.799807   0.988672   0.806505    0.734765   \n",
      "3         0.890629     0.679008    0.821696   0.992683   0.865718    0.832861   \n",
      "4         0.826556     0.622291    0.705300   0.991061   0.820991    0.786896   \n",
      "5         0.830920     0.590483    0.742606   0.984845   0.807023    0.668681   \n",
      "\n",
      "        IoU_RV_ED  IoU_BG_ES  IoU_LV_ES  IoU_MYO_ES  IoU_RV_ES  \n",
      "Centre                                                          \n",
      "0        0.882075   0.988876   0.818759    0.710748   0.793124  \n",
      "1        0.794354   0.982204   0.742542    0.653285   0.673698  \n",
      "2        0.779220   0.977661   0.685458    0.591335   0.646142  \n",
      "3        0.813267   0.985498   0.774516    0.716226   0.691831  \n",
      "4        0.741986   0.982324   0.706240    0.653064   0.613606  \n",
      "5        0.759006   0.970229   0.692269    0.517259   0.626332  \n"
     ]
    },
    {
     "data": {
      "image/png": "[encoded data removed]",
      "text/plain": [
       "<Figure size 1800x600 with 2 Axes>"
      ]
     },
     "metadata": {},
     "output_type": "display_data"
    }
   ],
   "source": [
    "from scripts.pipeline import pipeline\n",
    "pipeline()"
   ]
  },
  {
   "cell_type": "markdown",
   "metadata": {},
   "source": [
    "# Test"
   ]
  },
  {
   "cell_type": "code",
   "execution_count": 2,
   "metadata": {},
   "outputs": [
    {
     "name": "stderr",
     "output_type": "stream",
     "text": [
      "/home/ids/mahdi-22/M-M/.venv/lib/python3.10/site-packages/tqdm/auto.py:21: TqdmWarning: IProgress not found. Please update jupyter and ipywidgets. See https://ipywidgets.readthedocs.io/en/stable/user_install.html\n",
      "  from .autonotebook import tqdm as notebook_tqdm\n"
     ]
    }
   ],
   "source": [
    "import matplotlib.pyplot as plt\n",
    "from einops import rearrange\n",
    "\n",
    "import torch\n",
    "import torch.nn.functional as F\n",
    "\n",
    "\n",
    "from monai.transforms import ScaleIntensity\n",
    "from monai.config import print_config\n",
    "\n",
    "from scripts.train import LitUnet\n",
    "from scripts.data import CentreDataModule\n",
    "import pytorch_lightning as pl\n",
    "from pytorch_lightning.callbacks import EarlyStopping\n",
    "from pytorch_lightning import seed_everything\n",
    "\n",
    "%load_ext autoreload\n",
    "%autoreload 2\n",
    "\n",
    "from scripts.utils import *\n",
    "\n",
    "#print_config()\n"
   ]
  },
  {
   "cell_type": "code",
   "execution_count": 3,
   "metadata": {},
   "outputs": [
    {
     "name": "stderr",
     "output_type": "stream",
     "text": [
      "Failed to detect the name of this notebook, you can set it manually with the WANDB_NOTEBOOK_NAME environment variable to enable code saving.\n",
      "\u001b[34m\u001b[1mwandb\u001b[0m: Currently logged in as: \u001b[33mimen-mahdi\u001b[0m. Use \u001b[1m`wandb login --relogin`\u001b[0m to force relogin\n"
     ]
    },
    {
     "data": {
      "text/html": [
       "Tracking run with wandb version 0.15.7"
      ],
      "text/plain": [
       "<IPython.core.display.HTML object>"
      ]
     },
     "metadata": {},
     "output_type": "display_data"
    },
    {
     "data": {
      "text/html": [
       "Run data is saved locally in <code>./wandb/run-20230801_132321-yzlefb2p</code>"
      ],
      "text/plain": [
       "<IPython.core.display.HTML object>"
      ]
     },
     "metadata": {},
     "output_type": "display_data"
    },
    {
     "data": {
      "text/html": [
       "Syncing run <strong><a href='https://wandb.ai/imen-mahdi/M-M/runs/yzlefb2p' target=\"_blank\">azure-snowball-5</a></strong> to <a href='https://wandb.ai/imen-mahdi/M-M' target=\"_blank\">Weights & Biases</a> (<a href='https://wandb.me/run' target=\"_blank\">docs</a>)<br/>"
      ],
      "text/plain": [
       "<IPython.core.display.HTML object>"
      ]
     },
     "metadata": {},
     "output_type": "display_data"
    },
    {
     "data": {
      "text/html": [
       " View project at <a href='https://wandb.ai/imen-mahdi/M-M' target=\"_blank\">https://wandb.ai/imen-mahdi/M-M</a>"
      ],
      "text/plain": [
       "<IPython.core.display.HTML object>"
      ]
     },
     "metadata": {},
     "output_type": "display_data"
    },
    {
     "data": {
      "text/html": [
       " View run at <a href='https://wandb.ai/imen-mahdi/M-M/runs/yzlefb2p' target=\"_blank\">https://wandb.ai/imen-mahdi/M-M/runs/yzlefb2p</a>"
      ],
      "text/plain": [
       "<IPython.core.display.HTML object>"
      ]
     },
     "metadata": {},
     "output_type": "display_data"
    }
   ],
   "source": [
    "import wandb\n",
    "from pytorch_lightning.loggers import WandbLogger\n",
    "wandb_logger = WandbLogger(project=\"M-M\", entity=\"imen-mahdi\")"
   ]
  },
  {
   "cell_type": "code",
   "execution_count": 4,
   "metadata": {},
   "outputs": [
    {
     "name": "stderr",
     "output_type": "stream",
     "text": [
      "Global seed set to 42\n"
     ]
    }
   ],
   "source": [
    "seed_everything(42, workers=True)\n",
    "\n",
    "model = LitUnet(lr=1e-3)"
   ]
  },
  {
   "cell_type": "code",
   "execution_count": 5,
   "metadata": {},
   "outputs": [],
   "source": [
    "transform =  ScaleIntensity(minv=0.0, maxv=1.0, channel_wise=True)\n",
    "dm = CentreDataModule(\"A\", split_ratio=0.7, load_transform=transform, batch_size=8)"
   ]
  },
  {
   "cell_type": "code",
   "execution_count": 5,
   "metadata": {},
   "outputs": [
    {
     "name": "stderr",
     "output_type": "stream",
     "text": [
      "/home/ids/mahdi-22/M-M/.venv/lib/python3.10/site-packages/lightning_fabric/plugins/environments/slurm.py:165: PossibleUserWarning: The `srun` command is available on your system but is not used. HINT: If your intention is to run Lightning on SLURM, prepend your python command with `srun` like so: srun python /home/ids/mahdi-22/M-M/.venv/lib/python3.10/site-pac ...\n",
      "  rank_zero_warn(\n",
      "GPU available: True (cuda), used: True\n",
      "TPU available: False, using: 0 TPU cores\n",
      "IPU available: False, using: 0 IPUs\n",
      "HPU available: False, using: 0 HPUs\n",
      "/home/ids/mahdi-22/M-M/.venv/lib/python3.10/site-packages/lightning_fabric/plugins/environments/slurm.py:165: PossibleUserWarning: The `srun` command is available on your system but is not used. HINT: If your intention is to run Lightning on SLURM, prepend your python command with `srun` like so: srun python /home/ids/mahdi-22/M-M/.venv/lib/python3.10/site-pac ...\n",
      "  rank_zero_warn(\n"
     ]
    },
    {
     "name": "stdout",
     "output_type": "stream",
     "text": [
      "total number of samples: 95, train samples: 66, Validation: 29\n",
      "Loading Images for centre:  0\n",
      "Loading Labels for centre:  0\n"
     ]
    },
    {
     "name": "stderr",
     "output_type": "stream",
     "text": [
      "100%|██████████| 66/66 [00:02<00:00, 32.73File/s]\n",
      "100%|██████████| 66/66 [00:01<00:00, 57.97File/s]\n"
     ]
    },
    {
     "name": "stdout",
     "output_type": "stream",
     "text": [
      "Loading Images for centre:  1\n",
      "Loading Labels for centre:  1\n"
     ]
    },
    {
     "name": "stderr",
     "output_type": "stream",
     "text": [
      "100%|██████████| 29/29 [00:00<00:00, 34.21File/s]\n",
      "100%|██████████| 29/29 [00:00<00:00, 59.47File/s]\n",
      "LOCAL_RANK: 0 - CUDA_VISIBLE_DEVICES: [0]\n"
     ]
    },
    {
     "name": "stdout",
     "output_type": "stream",
     "text": [
      "Epoch 10: 100%|██████████| 195/195 [00:06<00:00, 29.13it/s, v_num=do61, val_loss=0.0591, train_loss=0.0395]\n"
     ]
    }
   ],
   "source": [
    "# # Training and Validation\n",
    "# trainer = pl.Trainer(max_epochs=50, \n",
    "#                      deterministic=True, \n",
    "#                      logger=wandb_logger,\n",
    "#                      log_every_n_steps=1, \n",
    "#                      enable_model_summary=False,\n",
    "#                      callbacks=[EarlyStopping('val_loss', patience=2)], \n",
    "#                      fast_dev_run=False)\n",
    "# trainer.fit(model, datamodule=dm)\n",
    "# trainer.save_checkpoint(\"checkpoints/benchmark_deterministic.ckpt\")"
   ]
  },
  {
   "cell_type": "code",
   "execution_count": 19,
   "metadata": {},
   "outputs": [
    {
     "name": "stderr",
     "output_type": "stream",
     "text": [
      "/home/ids/mahdi-22/M-M/.venv/lib/python3.10/site-packages/lightning_fabric/plugins/environments/slurm.py:165: PossibleUserWarning: The `srun` command is available on your system but is not used. HINT: If your intention is to run Lightning on SLURM, prepend your python command with `srun` like so: srun python /home/ids/mahdi-22/M-M/.venv/lib/python3.10/site-pac ...\n",
      "  rank_zero_warn(\n",
      "GPU available: True (cuda), used: True\n",
      "TPU available: False, using: 0 TPU cores\n",
      "IPU available: False, using: 0 IPUs\n",
      "HPU available: False, using: 0 HPUs\n",
      "Restoring states from the checkpoint path at checkpoints/benchmark_deterministic.ckpt\n",
      "LOCAL_RANK: 0 - CUDA_VISIBLE_DEVICES: [0]\n",
      "Loaded model weights from the checkpoint at checkpoints/benchmark_deterministic.ckpt\n"
     ]
    },
    {
     "name": "stdout",
     "output_type": "stream",
     "text": [
      "Testing DataLoader 4: 100%|██████████| 50/50 [00:03<00:00, 15.04it/s]\n"
     ]
    },
    {
     "data": {
      "text/html": [
       "<pre style=\"white-space:pre;overflow-x:auto;line-height:normal;font-family:Menlo,'DejaVu Sans Mono',consolas,'Courier New',monospace\">┏━━━━━━━━━━━━━━━━━━━━━━━━━━━┳━━━━━━━━━━━━━━━━━━━━━━━━━━━┳━━━━━━━━━━━━━━━━━━━━━━━━━━━┳━━━━━━━━━━━━━━━━━━━━━━━━━━━┓\n",
       "┃<span style=\"font-weight: bold\">        Test metric        </span>┃<span style=\"font-weight: bold\">       DataLoader 0        </span>┃<span style=\"font-weight: bold\">       DataLoader 1        </span>┃<span style=\"font-weight: bold\">       DataLoader 2        </span>┃\n",
       "┡━━━━━━━━━━━━━━━━━━━━━━━━━━━╇━━━━━━━━━━━━━━━━━━━━━━━━━━━╇━━━━━━━━━━━━━━━━━━━━━━━━━━━╇━━━━━━━━━━━━━━━━━━━━━━━━━━━┩\n",
       "│<span style=\"color: #008080; text-decoration-color: #008080\">         test_loss         </span>│<span style=\"color: #800080; text-decoration-color: #800080\">    0.04522495067565002    </span>│<span style=\"color: #800080; text-decoration-color: #800080\">    0.07059815582702761    </span>│<span style=\"color: #800080; text-decoration-color: #800080\">    0.05236804174457443    </span>│\n",
       "└───────────────────────────┴───────────────────────────┴───────────────────────────┴───────────────────────────┘\n",
       "</pre>\n"
      ],
      "text/plain": [
       "┏━━━━━━━━━━━━━━━━━━━━━━━━━━━┳━━━━━━━━━━━━━━━━━━━━━━━━━━━┳━━━━━━━━━━━━━━━━━━━━━━━━━━━┳━━━━━━━━━━━━━━━━━━━━━━━━━━━┓\n",
       "┃\u001b[1m \u001b[0m\u001b[1m       Test metric       \u001b[0m\u001b[1m \u001b[0m┃\u001b[1m \u001b[0m\u001b[1m      DataLoader 0       \u001b[0m\u001b[1m \u001b[0m┃\u001b[1m \u001b[0m\u001b[1m      DataLoader 1       \u001b[0m\u001b[1m \u001b[0m┃\u001b[1m \u001b[0m\u001b[1m      DataLoader 2       \u001b[0m\u001b[1m \u001b[0m┃\n",
       "┡━━━━━━━━━━━━━━━━━━━━━━━━━━━╇━━━━━━━━━━━━━━━━━━━━━━━━━━━╇━━━━━━━━━━━━━━━━━━━━━━━━━━━╇━━━━━━━━━━━━━━━━━━━━━━━━━━━┩\n",
       "│\u001b[36m \u001b[0m\u001b[36m        test_loss        \u001b[0m\u001b[36m \u001b[0m│\u001b[35m \u001b[0m\u001b[35m   0.04522495067565002   \u001b[0m\u001b[35m \u001b[0m│\u001b[35m \u001b[0m\u001b[35m   0.07059815582702761   \u001b[0m\u001b[35m \u001b[0m│\u001b[35m \u001b[0m\u001b[35m   0.05236804174457443   \u001b[0m\u001b[35m \u001b[0m│\n",
       "└───────────────────────────┴───────────────────────────┴───────────────────────────┴───────────────────────────┘\n"
      ]
     },
     "metadata": {},
     "output_type": "display_data"
    },
    {
     "data": {
      "text/html": [
       "<pre style=\"white-space:pre;overflow-x:auto;line-height:normal;font-family:Menlo,'DejaVu Sans Mono',consolas,'Courier New',monospace\">┏━━━━━━━━━━━━━━━━━━━━━━━━━━━┳━━━━━━━━━━━━━━━━━━━━━━━━━━━┳━━━━━━━━━━━━━━━━━━━━━━━━━━━┓\n",
       "┃<span style=\"font-weight: bold\">        Test metric        </span>┃<span style=\"font-weight: bold\">       DataLoader 3        </span>┃<span style=\"font-weight: bold\">       DataLoader 4        </span>┃\n",
       "┡━━━━━━━━━━━━━━━━━━━━━━━━━━━╇━━━━━━━━━━━━━━━━━━━━━━━━━━━╇━━━━━━━━━━━━━━━━━━━━━━━━━━━┩\n",
       "│<span style=\"color: #008080; text-decoration-color: #008080\">         test_loss         </span>│<span style=\"color: #800080; text-decoration-color: #800080\">    0.06769312220450134    </span>│<span style=\"color: #800080; text-decoration-color: #800080\">    0.09842617480538117    </span>│\n",
       "└───────────────────────────┴───────────────────────────┴───────────────────────────┘\n",
       "</pre>\n"
      ],
      "text/plain": [
       "┏━━━━━━━━━━━━━━━━━━━━━━━━━━━┳━━━━━━━━━━━━━━━━━━━━━━━━━━━┳━━━━━━━━━━━━━━━━━━━━━━━━━━━┓\n",
       "┃\u001b[1m \u001b[0m\u001b[1m       Test metric       \u001b[0m\u001b[1m \u001b[0m┃\u001b[1m \u001b[0m\u001b[1m      DataLoader 3       \u001b[0m\u001b[1m \u001b[0m┃\u001b[1m \u001b[0m\u001b[1m      DataLoader 4       \u001b[0m\u001b[1m \u001b[0m┃\n",
       "┡━━━━━━━━━━━━━━━━━━━━━━━━━━━╇━━━━━━━━━━━━━━━━━━━━━━━━━━━╇━━━━━━━━━━━━━━━━━━━━━━━━━━━┩\n",
       "│\u001b[36m \u001b[0m\u001b[36m        test_loss        \u001b[0m\u001b[36m \u001b[0m│\u001b[35m \u001b[0m\u001b[35m   0.06769312220450134   \u001b[0m\u001b[35m \u001b[0m│\u001b[35m \u001b[0m\u001b[35m   0.09842617480538117   \u001b[0m\u001b[35m \u001b[0m│\n",
       "└───────────────────────────┴───────────────────────────┴───────────────────────────┘\n"
      ]
     },
     "metadata": {},
     "output_type": "display_data"
    },
    {
     "data": {
      "text/plain": [
       "[{'test_loss/dataloader_idx_0': 0.04522495067565002},\n",
       " {'test_loss/dataloader_idx_1': 0.07059815582702761},\n",
       " {'test_loss/dataloader_idx_2': 0.05236804174457443},\n",
       " {'test_loss/dataloader_idx_3': 0.06769312220450134},\n",
       " {'test_loss/dataloader_idx_4': 0.09842617480538117}]"
      ]
     },
     "execution_count": 19,
     "metadata": {},
     "output_type": "execute_result"
    },
    {
     "name": "stderr",
     "output_type": "stream",
     "text": [
      "wandb: Network error (TransientError), entering retry loop.\n",
      "wandb: Network error (TransientError), entering retry loop.\n",
      "wandb: Network error (TransientError), entering retry loop.\n",
      "wandb: Network error (TransientError), entering retry loop.\n",
      "wandb: Network error (TransientError), entering retry loop.\n",
      "wandb: Network error (TransientError), entering retry loop.\n",
      "wandb: Network error (TransientError), entering retry loop.\n"
     ]
    }
   ],
   "source": [
    "# Test\n",
    "trainer = pl.Trainer(logger=wandb_logger)\n",
    "trainer.test(model, ckpt_path=\"checkpoints/benchmark_deterministic.ckpt\", datamodule=dm)"
   ]
  },
  {
   "cell_type": "code",
   "execution_count": 26,
   "metadata": {},
   "outputs": [],
   "source": [
    "results = trainer.model.results"
   ]
  },
  {
   "cell_type": "code",
   "execution_count": 27,
   "metadata": {},
   "outputs": [],
   "source": [
    "results[[\"Centre\", \"batch_idx\"]] = results.iloc[:, :2].astype(int)"
   ]
  },
  {
   "cell_type": "code",
   "execution_count": 26,
   "metadata": {},
   "outputs": [
    {
     "data": {
      "text/html": [
       "<div>\n",
       "<style scoped>\n",
       "    .dataframe tbody tr th:only-of-type {\n",
       "        vertical-align: middle;\n",
       "    }\n",
       "\n",
       "    .dataframe tbody tr th {\n",
       "        vertical-align: top;\n",
       "    }\n",
       "\n",
       "    .dataframe thead th {\n",
       "        text-align: right;\n",
       "    }\n",
       "</style>\n",
       "<table border=\"1\" class=\"dataframe\">\n",
       "  <thead>\n",
       "    <tr style=\"text-align: right;\">\n",
       "      <th></th>\n",
       "      <th>VendorName</th>\n",
       "      <th>Vendor</th>\n",
       "      <th>Centre</th>\n",
       "      <th>ED</th>\n",
       "      <th>ES</th>\n",
       "      <th>Age</th>\n",
       "      <th>Pathology</th>\n",
       "      <th>Sex</th>\n",
       "      <th>Height</th>\n",
       "      <th>Weight</th>\n",
       "      <th>Image_path</th>\n",
       "      <th>Seg_path</th>\n",
       "      <th>time_dim</th>\n",
       "      <th>x_dim</th>\n",
       "      <th>y_dim</th>\n",
       "      <th>z_dim</th>\n",
       "      <th>x_pixdim</th>\n",
       "      <th>y_pixdim</th>\n",
       "      <th>z_pixdim</th>\n",
       "    </tr>\n",
       "    <tr>\n",
       "      <th>SubjectID</th>\n",
       "      <th></th>\n",
       "      <th></th>\n",
       "      <th></th>\n",
       "      <th></th>\n",
       "      <th></th>\n",
       "      <th></th>\n",
       "      <th></th>\n",
       "      <th></th>\n",
       "      <th></th>\n",
       "      <th></th>\n",
       "      <th></th>\n",
       "      <th></th>\n",
       "      <th></th>\n",
       "      <th></th>\n",
       "      <th></th>\n",
       "      <th></th>\n",
       "      <th></th>\n",
       "      <th></th>\n",
       "      <th></th>\n",
       "    </tr>\n",
       "  </thead>\n",
       "  <tbody>\n",
       "    <tr>\n",
       "      <th>A1D9Z7</th>\n",
       "      <td>Siemens</td>\n",
       "      <td>A</td>\n",
       "      <td>0</td>\n",
       "      <td>22</td>\n",
       "      <td>11</td>\n",
       "      <td>53</td>\n",
       "      <td>HCM</td>\n",
       "      <td>M</td>\n",
       "      <td>175.0</td>\n",
       "      <td>75.0</td>\n",
       "      <td>Data_original/OpenDataset/Training/Labeled/A1D...</td>\n",
       "      <td>Data_original/OpenDataset/Training/Labeled/A1D...</td>\n",
       "      <td>25</td>\n",
       "      <td>208</td>\n",
       "      <td>256</td>\n",
       "      <td>13</td>\n",
       "      <td>1.250000</td>\n",
       "      <td>1.250000</td>\n",
       "      <td>8.8</td>\n",
       "    </tr>\n",
       "    <tr>\n",
       "      <th>A2C0I1</th>\n",
       "      <td>Siemens</td>\n",
       "      <td>A</td>\n",
       "      <td>0</td>\n",
       "      <td>0</td>\n",
       "      <td>7</td>\n",
       "      <td>61</td>\n",
       "      <td>HCM</td>\n",
       "      <td>M</td>\n",
       "      <td>172.0</td>\n",
       "      <td>89.0</td>\n",
       "      <td>Data_original/OpenDataset/Training/Labeled/A2C...</td>\n",
       "      <td>Data_original/OpenDataset/Training/Labeled/A2C...</td>\n",
       "      <td>25</td>\n",
       "      <td>208</td>\n",
       "      <td>256</td>\n",
       "      <td>12</td>\n",
       "      <td>1.250000</td>\n",
       "      <td>1.250000</td>\n",
       "      <td>8.0</td>\n",
       "    </tr>\n",
       "    <tr>\n",
       "      <th>A2L1N6</th>\n",
       "      <td>Siemens</td>\n",
       "      <td>A</td>\n",
       "      <td>0</td>\n",
       "      <td>0</td>\n",
       "      <td>12</td>\n",
       "      <td>31</td>\n",
       "      <td>DCM</td>\n",
       "      <td>M</td>\n",
       "      <td>168.0</td>\n",
       "      <td>91.0</td>\n",
       "      <td>Data_original/OpenDataset/Testing/A2L1N6/A2L1N...</td>\n",
       "      <td>Data_original/OpenDataset/Testing/A2L1N6/A2L1N...</td>\n",
       "      <td>25</td>\n",
       "      <td>196</td>\n",
       "      <td>240</td>\n",
       "      <td>13</td>\n",
       "      <td>1.416667</td>\n",
       "      <td>1.416667</td>\n",
       "      <td>9.6</td>\n",
       "    </tr>\n",
       "    <tr>\n",
       "      <th>A4B5U4</th>\n",
       "      <td>Siemens</td>\n",
       "      <td>A</td>\n",
       "      <td>0</td>\n",
       "      <td>0</td>\n",
       "      <td>10</td>\n",
       "      <td>54</td>\n",
       "      <td>DCM</td>\n",
       "      <td>F</td>\n",
       "      <td>160.0</td>\n",
       "      <td>45.0</td>\n",
       "      <td>Data_original/OpenDataset/Training/Labeled/A4B...</td>\n",
       "      <td>Data_original/OpenDataset/Training/Labeled/A4B...</td>\n",
       "      <td>25</td>\n",
       "      <td>196</td>\n",
       "      <td>240</td>\n",
       "      <td>14</td>\n",
       "      <td>1.012500</td>\n",
       "      <td>1.012500</td>\n",
       "      <td>9.6</td>\n",
       "    </tr>\n",
       "    <tr>\n",
       "      <th>A4J4S4</th>\n",
       "      <td>Siemens</td>\n",
       "      <td>A</td>\n",
       "      <td>0</td>\n",
       "      <td>0</td>\n",
       "      <td>7</td>\n",
       "      <td>30</td>\n",
       "      <td>HCM</td>\n",
       "      <td>M</td>\n",
       "      <td>169.0</td>\n",
       "      <td>70.0</td>\n",
       "      <td>Data_original/OpenDataset/Training/Labeled/A4J...</td>\n",
       "      <td>Data_original/OpenDataset/Training/Labeled/A4J...</td>\n",
       "      <td>25</td>\n",
       "      <td>208</td>\n",
       "      <td>256</td>\n",
       "      <td>11</td>\n",
       "      <td>1.250000</td>\n",
       "      <td>1.250000</td>\n",
       "      <td>8.0</td>\n",
       "    </tr>\n",
       "    <tr>\n",
       "      <th>...</th>\n",
       "      <td>...</td>\n",
       "      <td>...</td>\n",
       "      <td>...</td>\n",
       "      <td>...</td>\n",
       "      <td>...</td>\n",
       "      <td>...</td>\n",
       "      <td>...</td>\n",
       "      <td>...</td>\n",
       "      <td>...</td>\n",
       "      <td>...</td>\n",
       "      <td>...</td>\n",
       "      <td>...</td>\n",
       "      <td>...</td>\n",
       "      <td>...</td>\n",
       "      <td>...</td>\n",
       "      <td>...</td>\n",
       "      <td>...</td>\n",
       "      <td>...</td>\n",
       "      <td>...</td>\n",
       "    </tr>\n",
       "    <tr>\n",
       "      <th>O7Q7U3</th>\n",
       "      <td>Canon</td>\n",
       "      <td>D</td>\n",
       "      <td>5</td>\n",
       "      <td>29</td>\n",
       "      <td>11</td>\n",
       "      <td>72</td>\n",
       "      <td>HCM</td>\n",
       "      <td>F</td>\n",
       "      <td>148.0</td>\n",
       "      <td>64.0</td>\n",
       "      <td>Data_original/OpenDataset/Validation/O7Q7U3/O7...</td>\n",
       "      <td>Data_original/OpenDataset/Validation/O7Q7U3/O7...</td>\n",
       "      <td>30</td>\n",
       "      <td>512</td>\n",
       "      <td>440</td>\n",
       "      <td>12</td>\n",
       "      <td>0.795500</td>\n",
       "      <td>0.795500</td>\n",
       "      <td>10.0</td>\n",
       "    </tr>\n",
       "    <tr>\n",
       "      <th>P8V0Y7</th>\n",
       "      <td>Canon</td>\n",
       "      <td>D</td>\n",
       "      <td>5</td>\n",
       "      <td>27</td>\n",
       "      <td>9</td>\n",
       "      <td>73</td>\n",
       "      <td>HCM</td>\n",
       "      <td>M</td>\n",
       "      <td>164.0</td>\n",
       "      <td>64.0</td>\n",
       "      <td>Data_original/OpenDataset/Validation/P8V0Y7/P8...</td>\n",
       "      <td>Data_original/OpenDataset/Validation/P8V0Y7/P8...</td>\n",
       "      <td>28</td>\n",
       "      <td>512</td>\n",
       "      <td>440</td>\n",
       "      <td>14</td>\n",
       "      <td>0.795500</td>\n",
       "      <td>0.795500</td>\n",
       "      <td>10.0</td>\n",
       "    </tr>\n",
       "    <tr>\n",
       "      <th>Q4W5Z8</th>\n",
       "      <td>Canon</td>\n",
       "      <td>D</td>\n",
       "      <td>5</td>\n",
       "      <td>33</td>\n",
       "      <td>10</td>\n",
       "      <td>54</td>\n",
       "      <td>NOR</td>\n",
       "      <td>M</td>\n",
       "      <td>191.0</td>\n",
       "      <td>85.0</td>\n",
       "      <td>Data_original/OpenDataset/Testing/Q4W5Z8/Q4W5Z...</td>\n",
       "      <td>Data_original/OpenDataset/Testing/Q4W5Z8/Q4W5Z...</td>\n",
       "      <td>34</td>\n",
       "      <td>512</td>\n",
       "      <td>440</td>\n",
       "      <td>14</td>\n",
       "      <td>0.795500</td>\n",
       "      <td>0.795500</td>\n",
       "      <td>10.0</td>\n",
       "    </tr>\n",
       "    <tr>\n",
       "      <th>R3V5W7</th>\n",
       "      <td>Canon</td>\n",
       "      <td>D</td>\n",
       "      <td>5</td>\n",
       "      <td>27</td>\n",
       "      <td>13</td>\n",
       "      <td>69</td>\n",
       "      <td>DCM</td>\n",
       "      <td>F</td>\n",
       "      <td>156.0</td>\n",
       "      <td>76.0</td>\n",
       "      <td>Data_original/OpenDataset/Testing/R3V5W7/R3V5W...</td>\n",
       "      <td>Data_original/OpenDataset/Testing/R3V5W7/R3V5W...</td>\n",
       "      <td>28</td>\n",
       "      <td>512</td>\n",
       "      <td>440</td>\n",
       "      <td>12</td>\n",
       "      <td>0.795500</td>\n",
       "      <td>0.795500</td>\n",
       "      <td>10.0</td>\n",
       "    </tr>\n",
       "    <tr>\n",
       "      <th>T2Z1Z9</th>\n",
       "      <td>Canon</td>\n",
       "      <td>D</td>\n",
       "      <td>5</td>\n",
       "      <td>29</td>\n",
       "      <td>9</td>\n",
       "      <td>43</td>\n",
       "      <td>HCM</td>\n",
       "      <td>F</td>\n",
       "      <td>162.0</td>\n",
       "      <td>93.0</td>\n",
       "      <td>Data_original/OpenDataset/Testing/T2Z1Z9/T2Z1Z...</td>\n",
       "      <td>Data_original/OpenDataset/Testing/T2Z1Z9/T2Z1Z...</td>\n",
       "      <td>30</td>\n",
       "      <td>512</td>\n",
       "      <td>440</td>\n",
       "      <td>12</td>\n",
       "      <td>0.795500</td>\n",
       "      <td>0.795500</td>\n",
       "      <td>10.0</td>\n",
       "    </tr>\n",
       "  </tbody>\n",
       "</table>\n",
       "<p>317 rows × 19 columns</p>\n",
       "</div>"
      ],
      "text/plain": [
       "          VendorName Vendor  Centre  ED  ES  Age Pathology Sex  Height  \\\n",
       "SubjectID                                                                \n",
       "A1D9Z7       Siemens      A       0  22  11   53       HCM   M   175.0   \n",
       "A2C0I1       Siemens      A       0   0   7   61       HCM   M   172.0   \n",
       "A2L1N6       Siemens      A       0   0  12   31       DCM   M   168.0   \n",
       "A4B5U4       Siemens      A       0   0  10   54       DCM   F   160.0   \n",
       "A4J4S4       Siemens      A       0   0   7   30       HCM   M   169.0   \n",
       "...              ...    ...     ...  ..  ..  ...       ...  ..     ...   \n",
       "O7Q7U3         Canon      D       5  29  11   72       HCM   F   148.0   \n",
       "P8V0Y7         Canon      D       5  27   9   73       HCM   M   164.0   \n",
       "Q4W5Z8         Canon      D       5  33  10   54       NOR   M   191.0   \n",
       "R3V5W7         Canon      D       5  27  13   69       DCM   F   156.0   \n",
       "T2Z1Z9         Canon      D       5  29   9   43       HCM   F   162.0   \n",
       "\n",
       "           Weight                                         Image_path  \\\n",
       "SubjectID                                                              \n",
       "A1D9Z7       75.0  Data_original/OpenDataset/Training/Labeled/A1D...   \n",
       "A2C0I1       89.0  Data_original/OpenDataset/Training/Labeled/A2C...   \n",
       "A2L1N6       91.0  Data_original/OpenDataset/Testing/A2L1N6/A2L1N...   \n",
       "A4B5U4       45.0  Data_original/OpenDataset/Training/Labeled/A4B...   \n",
       "A4J4S4       70.0  Data_original/OpenDataset/Training/Labeled/A4J...   \n",
       "...           ...                                                ...   \n",
       "O7Q7U3       64.0  Data_original/OpenDataset/Validation/O7Q7U3/O7...   \n",
       "P8V0Y7       64.0  Data_original/OpenDataset/Validation/P8V0Y7/P8...   \n",
       "Q4W5Z8       85.0  Data_original/OpenDataset/Testing/Q4W5Z8/Q4W5Z...   \n",
       "R3V5W7       76.0  Data_original/OpenDataset/Testing/R3V5W7/R3V5W...   \n",
       "T2Z1Z9       93.0  Data_original/OpenDataset/Testing/T2Z1Z9/T2Z1Z...   \n",
       "\n",
       "                                                    Seg_path  time_dim  x_dim  \\\n",
       "SubjectID                                                                       \n",
       "A1D9Z7     Data_original/OpenDataset/Training/Labeled/A1D...        25    208   \n",
       "A2C0I1     Data_original/OpenDataset/Training/Labeled/A2C...        25    208   \n",
       "A2L1N6     Data_original/OpenDataset/Testing/A2L1N6/A2L1N...        25    196   \n",
       "A4B5U4     Data_original/OpenDataset/Training/Labeled/A4B...        25    196   \n",
       "A4J4S4     Data_original/OpenDataset/Training/Labeled/A4J...        25    208   \n",
       "...                                                      ...       ...    ...   \n",
       "O7Q7U3     Data_original/OpenDataset/Validation/O7Q7U3/O7...        30    512   \n",
       "P8V0Y7     Data_original/OpenDataset/Validation/P8V0Y7/P8...        28    512   \n",
       "Q4W5Z8     Data_original/OpenDataset/Testing/Q4W5Z8/Q4W5Z...        34    512   \n",
       "R3V5W7     Data_original/OpenDataset/Testing/R3V5W7/R3V5W...        28    512   \n",
       "T2Z1Z9     Data_original/OpenDataset/Testing/T2Z1Z9/T2Z1Z...        30    512   \n",
       "\n",
       "           y_dim  z_dim  x_pixdim  y_pixdim  z_pixdim  \n",
       "SubjectID                                              \n",
       "A1D9Z7       256     13  1.250000  1.250000       8.8  \n",
       "A2C0I1       256     12  1.250000  1.250000       8.0  \n",
       "A2L1N6       240     13  1.416667  1.416667       9.6  \n",
       "A4B5U4       240     14  1.012500  1.012500       9.6  \n",
       "A4J4S4       256     11  1.250000  1.250000       8.0  \n",
       "...          ...    ...       ...       ...       ...  \n",
       "O7Q7U3       440     12  0.795500  0.795500      10.0  \n",
       "P8V0Y7       440     14  0.795500  0.795500      10.0  \n",
       "Q4W5Z8       440     14  0.795500  0.795500      10.0  \n",
       "R3V5W7       440     12  0.795500  0.795500      10.0  \n",
       "T2Z1Z9       440     12  0.795500  0.795500      10.0  \n",
       "\n",
       "[317 rows x 19 columns]"
      ]
     },
     "execution_count": 26,
     "metadata": {},
     "output_type": "execute_result"
    }
   ],
   "source": [
    "metadata = trainer.datamodule.metadata\n",
    "# order resukts by centre and subjectid\n",
    "metadata = metadata.sort_values(by=[\"Centre\", \"SubjectID\"])\n",
    "metadata"
   ]
  }
 ],
 "metadata": {
  "kernelspec": {
   "display_name": ".venv",
   "language": "python",
   "name": "python3"
  },
  "language_info": {
   "codemirror_mode": {
    "name": "ipython",
    "version": 3
   },
   "file_extension": ".py",
   "mimetype": "text/x-python",
   "name": "python",
   "nbconvert_exporter": "python",
   "pygments_lexer": "ipython3",
   "version": "3.10.6"
  },
  "orig_nbformat": 4
 },
 "nbformat": 4,
 "nbformat_minor": 2
}
