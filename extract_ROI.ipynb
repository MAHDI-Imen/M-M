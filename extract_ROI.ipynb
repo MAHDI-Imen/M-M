{
 "cells": [
  {
   "cell_type": "code",
   "execution_count": 1,
   "metadata": {},
   "outputs": [
    {
     "name": "stderr",
     "output_type": "stream",
     "text": [
      "/home/ids/mahdi-22/M-M/.venv/lib/python3.10/site-packages/tqdm/auto.py:21: TqdmWarning: IProgress not found. Please update jupyter and ipywidgets. See https://ipywidgets.readthedocs.io/en/stable/user_install.html\n",
      "  from .autonotebook import tqdm as notebook_tqdm\n"
     ]
    }
   ],
   "source": [
    "from scripts.extract_roi import extract_ROI\n",
    "\n",
    "%load_ext autoreload\n",
    "%autoreload 2"
   ]
  },
  {
   "cell_type": "code",
   "execution_count": 2,
   "metadata": {},
   "outputs": [
    {
     "name": "stdout",
     "output_type": "stream",
     "text": [
      "Start\n"
     ]
    },
    {
     "name": "stderr",
     "output_type": "stream",
     "text": [
      "102it [02:16,  1.15s/it]/home/ids/mahdi-22/M-M/.venv/lib/python3.10/site-packages/torchio/data/image.py:602: UserWarning: Error loading image with SimpleITK:\n",
      "Exception thrown in SimpleITK ImageFileReader_Execute: /tmp/SimpleITK-build/ITK/Modules/IO/NIFTI/src/itkNiftiImageIO.cxx:2016:\n",
      "ITK ERROR: ITK only supports orthonormal direction cosines.  No orthonormal definition found!\n",
      "\n",
      "Trying NiBabel...\n",
      "  tensor, affine = self.reader(path)\n",
      "103it [02:18,  1.26s/it]"
     ]
    },
    {
     "name": "stdout",
     "output_type": "stream",
     "text": [
      "C8J7L5  cannot be loaded\n"
     ]
    },
    {
     "name": "stderr",
     "output_type": "stream",
     "text": [
      "/home/ids/mahdi-22/M-M/.venv/lib/python3.10/site-packages/torchio/data/image.py:602: UserWarning: Error loading image with SimpleITK:\n",
      "Exception thrown in SimpleITK ImageFileReader_Execute: /tmp/SimpleITK-build/ITK/Modules/IO/NIFTI/src/itkNiftiImageIO.cxx:2016:\n",
      "ITK ERROR: ITK only supports orthonormal direction cosines.  No orthonormal definition found!\n",
      "\n",
      "Trying NiBabel...\n",
      "  tensor, affine = self.reader(path)\n",
      "104it [02:18,  1.08s/it]"
     ]
    },
    {
     "name": "stdout",
     "output_type": "stream",
     "text": [
      "C8O0P2  cannot be loaded\n"
     ]
    },
    {
     "name": "stderr",
     "output_type": "stream",
     "text": [
      "142it [03:07,  1.39s/it]/home/ids/mahdi-22/M-M/.venv/lib/python3.10/site-packages/torchio/data/image.py:602: UserWarning: Error loading image with SimpleITK:\n",
      "Exception thrown in SimpleITK ImageFileReader_Execute: /tmp/SimpleITK-build/ITK/Modules/IO/NIFTI/src/itkNiftiImageIO.cxx:2016:\n",
      "ITK ERROR: ITK only supports orthonormal direction cosines.  No orthonormal definition found!\n",
      "\n",
      "Trying NiBabel...\n",
      "  tensor, affine = self.reader(path)\n",
      "143it [03:07,  1.20s/it]"
     ]
    },
    {
     "name": "stdout",
     "output_type": "stream",
     "text": [
      "E3F5U2  cannot be loaded\n"
     ]
    },
    {
     "name": "stderr",
     "output_type": "stream",
     "text": [
      "320it [07:52,  1.48s/it]"
     ]
    },
    {
     "name": "stdout",
     "output_type": "stream",
     "text": [
      "Complete\n"
     ]
    },
    {
     "name": "stderr",
     "output_type": "stream",
     "text": [
      "\n"
     ]
    }
   ],
   "source": [
    "data_dir = \"Data_original/OpenDataset/\"\n",
    "destination_dir = \"Data/M&Ms/OpenDataset/\"\n",
    "extract_ROI(data_dir, destination_dir, crop_size=128, padding_size=20)"
   ]
  }
 ],
 "metadata": {
  "kernelspec": {
   "display_name": ".venv",
   "language": "python",
   "name": "python3"
  },
  "language_info": {
   "codemirror_mode": {
    "name": "ipython",
    "version": 3
   },
   "file_extension": ".py",
   "mimetype": "text/x-python",
   "name": "python",
   "nbconvert_exporter": "python",
   "pygments_lexer": "ipython3",
   "version": "3.10.6"
  },
  "orig_nbformat": 4
 },
 "nbformat": 4,
 "nbformat_minor": 2
}
