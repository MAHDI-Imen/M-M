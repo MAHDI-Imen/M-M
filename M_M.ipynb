{
  "cells": [
    {
      "cell_type": "code",
      "execution_count": 1,
      "metadata": {
        "id": "JnCu6vVgoP71"
      },
      "outputs": [
        {
          "name": "stderr",
          "output_type": "stream",
          "text": [
            "/home/ids/mahdi-22/.venv/lib/python3.10/site-packages/tqdm/auto.py:21: TqdmWarning: IProgress not found. Please update jupyter and ipywidgets. See https://ipywidgets.readthedocs.io/en/stable/user_install.html\n",
            "  from .autonotebook import tqdm as notebook_tqdm\n"
          ]
        }
      ],
      "source": [
        "# File\n",
        "import glob\n",
        "\n",
        "import pandas as pd\n",
        "import matplotlib.pyplot as plt\n",
        "\n",
        "#\n",
        "import torchio as tio"
      ]
    },
    {
      "cell_type": "code",
      "execution_count": 5,
      "metadata": {},
      "outputs": [],
      "source": [
        "import torch"
      ]
    },
    {
      "attachments": {},
      "cell_type": "markdown",
      "metadata": {
        "id": "hWCxbAyDz5uM"
      },
      "source": [
        "# Data Loading and Visualization"
      ]
    },
    {
      "attachments": {},
      "cell_type": "markdown",
      "metadata": {
        "id": "bzv5fNna0GNT"
      },
      "source": [
        "## Metadata"
      ]
    },
    {
      "cell_type": "code",
      "execution_count": 2,
      "metadata": {
        "id": "oC2TpPSmwXnw"
      },
      "outputs": [],
      "source": [
        "metadata_path = \"/home/ids/mahdi-22/M-M/Data/M&Ms/OpenDataset/211230_M&Ms_Dataset_information_diagnosis_opendataset.csv\"\n",
        "metadata = pd.read_csv(metadata_path, index_col=1).drop(columns=\"Unnamed: 0\")"
      ]
    },
    {
      "cell_type": "code",
      "execution_count": 4,
      "metadata": {
        "colab": {
          "base_uri": "https://localhost:8080/",
          "height": 499
        },
        "id": "-VYj11Oyw60c",
        "outputId": "c7d5b6d8-5728-4f78-ca2a-98b21abd6a25"
      },
      "outputs": [
        {
          "data": {
            "text/html": [
              "<div>\n",
              "<style scoped>\n",
              "    .dataframe tbody tr th:only-of-type {\n",
              "        vertical-align: middle;\n",
              "    }\n",
              "\n",
              "    .dataframe tbody tr th {\n",
              "        vertical-align: top;\n",
              "    }\n",
              "\n",
              "    .dataframe thead th {\n",
              "        text-align: right;\n",
              "    }\n",
              "</style>\n",
              "<table border=\"1\" class=\"dataframe\">\n",
              "  <thead>\n",
              "    <tr style=\"text-align: right;\">\n",
              "      <th></th>\n",
              "      <th>VendorName</th>\n",
              "      <th>Vendor</th>\n",
              "      <th>Centre</th>\n",
              "      <th>ED</th>\n",
              "      <th>ES</th>\n",
              "      <th>Age</th>\n",
              "      <th>Pathology</th>\n",
              "      <th>Sex</th>\n",
              "      <th>Height</th>\n",
              "      <th>Weight</th>\n",
              "    </tr>\n",
              "    <tr>\n",
              "      <th>External code</th>\n",
              "      <th></th>\n",
              "      <th></th>\n",
              "      <th></th>\n",
              "      <th></th>\n",
              "      <th></th>\n",
              "      <th></th>\n",
              "      <th></th>\n",
              "      <th></th>\n",
              "      <th></th>\n",
              "      <th></th>\n",
              "    </tr>\n",
              "  </thead>\n",
              "  <tbody>\n",
              "    <tr>\n",
              "      <th>A0S9V9</th>\n",
              "      <td>Siemens</td>\n",
              "      <td>A</td>\n",
              "      <td>1</td>\n",
              "      <td>0</td>\n",
              "      <td>9</td>\n",
              "      <td>67</td>\n",
              "      <td>DCM</td>\n",
              "      <td>M</td>\n",
              "      <td>180.0</td>\n",
              "      <td>88.0</td>\n",
              "    </tr>\n",
              "    <tr>\n",
              "      <th>A1D0Q7</th>\n",
              "      <td>Philips</td>\n",
              "      <td>B</td>\n",
              "      <td>2</td>\n",
              "      <td>0</td>\n",
              "      <td>9</td>\n",
              "      <td>79</td>\n",
              "      <td>HCM</td>\n",
              "      <td>F</td>\n",
              "      <td>NaN</td>\n",
              "      <td>88.0</td>\n",
              "    </tr>\n",
              "    <tr>\n",
              "      <th>A1D9Z7</th>\n",
              "      <td>Siemens</td>\n",
              "      <td>A</td>\n",
              "      <td>1</td>\n",
              "      <td>22</td>\n",
              "      <td>11</td>\n",
              "      <td>53</td>\n",
              "      <td>HCM</td>\n",
              "      <td>M</td>\n",
              "      <td>175.0</td>\n",
              "      <td>75.0</td>\n",
              "    </tr>\n",
              "    <tr>\n",
              "      <th>A1E9Q1</th>\n",
              "      <td>Siemens</td>\n",
              "      <td>A</td>\n",
              "      <td>1</td>\n",
              "      <td>0</td>\n",
              "      <td>9</td>\n",
              "      <td>16</td>\n",
              "      <td>DCM</td>\n",
              "      <td>M</td>\n",
              "      <td>175.0</td>\n",
              "      <td>75.0</td>\n",
              "    </tr>\n",
              "    <tr>\n",
              "      <th>A1K2P5</th>\n",
              "      <td>Canon</td>\n",
              "      <td>D</td>\n",
              "      <td>5</td>\n",
              "      <td>33</td>\n",
              "      <td>11</td>\n",
              "      <td>35</td>\n",
              "      <td>DCM</td>\n",
              "      <td>F</td>\n",
              "      <td>170.0</td>\n",
              "      <td>NaN</td>\n",
              "    </tr>\n",
              "    <tr>\n",
              "      <th>...</th>\n",
              "      <td>...</td>\n",
              "      <td>...</td>\n",
              "      <td>...</td>\n",
              "      <td>...</td>\n",
              "      <td>...</td>\n",
              "      <td>...</td>\n",
              "      <td>...</td>\n",
              "      <td>...</td>\n",
              "      <td>...</td>\n",
              "      <td>...</td>\n",
              "    </tr>\n",
              "    <tr>\n",
              "      <th>T2Z1Z9</th>\n",
              "      <td>Canon</td>\n",
              "      <td>D</td>\n",
              "      <td>5</td>\n",
              "      <td>29</td>\n",
              "      <td>9</td>\n",
              "      <td>43</td>\n",
              "      <td>HCM</td>\n",
              "      <td>F</td>\n",
              "      <td>162.0</td>\n",
              "      <td>93.0</td>\n",
              "    </tr>\n",
              "    <tr>\n",
              "      <th>T9U9W2</th>\n",
              "      <td>Siemens</td>\n",
              "      <td>A</td>\n",
              "      <td>1</td>\n",
              "      <td>0</td>\n",
              "      <td>10</td>\n",
              "      <td>57</td>\n",
              "      <td>HCM</td>\n",
              "      <td>M</td>\n",
              "      <td>160.0</td>\n",
              "      <td>68.0</td>\n",
              "    </tr>\n",
              "    <tr>\n",
              "      <th>V4W8Z5</th>\n",
              "      <td>GE</td>\n",
              "      <td>C</td>\n",
              "      <td>4</td>\n",
              "      <td>19</td>\n",
              "      <td>9</td>\n",
              "      <td>39</td>\n",
              "      <td>Other</td>\n",
              "      <td>F</td>\n",
              "      <td>NaN</td>\n",
              "      <td>55.0</td>\n",
              "    </tr>\n",
              "    <tr>\n",
              "      <th>W5Z4Z8</th>\n",
              "      <td>Philips</td>\n",
              "      <td>B</td>\n",
              "      <td>2</td>\n",
              "      <td>29</td>\n",
              "      <td>11</td>\n",
              "      <td>70</td>\n",
              "      <td>NOR</td>\n",
              "      <td>M</td>\n",
              "      <td>NaN</td>\n",
              "      <td>87.0</td>\n",
              "    </tr>\n",
              "    <tr>\n",
              "      <th>Y6Y9Z2</th>\n",
              "      <td>Philips</td>\n",
              "      <td>B</td>\n",
              "      <td>3</td>\n",
              "      <td>29</td>\n",
              "      <td>9</td>\n",
              "      <td>47</td>\n",
              "      <td>DCM</td>\n",
              "      <td>M</td>\n",
              "      <td>NaN</td>\n",
              "      <td>81.0</td>\n",
              "    </tr>\n",
              "  </tbody>\n",
              "</table>\n",
              "<p>345 rows × 10 columns</p>\n",
              "</div>"
            ],
            "text/plain": [
              "              VendorName Vendor  Centre  ED  ES  Age Pathology Sex  Height  \\\n",
              "External code                                                                \n",
              "A0S9V9           Siemens      A       1   0   9   67       DCM   M   180.0   \n",
              "A1D0Q7           Philips      B       2   0   9   79       HCM   F     NaN   \n",
              "A1D9Z7           Siemens      A       1  22  11   53       HCM   M   175.0   \n",
              "A1E9Q1           Siemens      A       1   0   9   16       DCM   M   175.0   \n",
              "A1K2P5             Canon      D       5  33  11   35       DCM   F   170.0   \n",
              "...                  ...    ...     ...  ..  ..  ...       ...  ..     ...   \n",
              "T2Z1Z9             Canon      D       5  29   9   43       HCM   F   162.0   \n",
              "T9U9W2           Siemens      A       1   0  10   57       HCM   M   160.0   \n",
              "V4W8Z5                GE      C       4  19   9   39     Other   F     NaN   \n",
              "W5Z4Z8           Philips      B       2  29  11   70       NOR   M     NaN   \n",
              "Y6Y9Z2           Philips      B       3  29   9   47       DCM   M     NaN   \n",
              "\n",
              "               Weight  \n",
              "External code          \n",
              "A0S9V9           88.0  \n",
              "A1D0Q7           88.0  \n",
              "A1D9Z7           75.0  \n",
              "A1E9Q1           75.0  \n",
              "A1K2P5            NaN  \n",
              "...               ...  \n",
              "T2Z1Z9           93.0  \n",
              "T9U9W2           68.0  \n",
              "V4W8Z5           55.0  \n",
              "W5Z4Z8           87.0  \n",
              "Y6Y9Z2           81.0  \n",
              "\n",
              "[345 rows x 10 columns]"
            ]
          },
          "execution_count": 4,
          "metadata": {},
          "output_type": "execute_result"
        }
      ],
      "source": [
        "metadata"
      ]
    },
    {
      "attachments": {},
      "cell_type": "markdown",
      "metadata": {
        "id": "bzyQRxx80IbT"
      },
      "source": [
        "## NII files"
      ]
    },
    {
      "cell_type": "code",
      "execution_count": 41,
      "metadata": {
        "colab": {
          "base_uri": "https://localhost:8080/"
        },
        "id": "Lrc30P6cu2xp",
        "outputId": "030f285b-407e-48a8-cef1-34260dc32908"
      },
      "outputs": [
        {
          "name": "stdout",
          "output_type": "stream",
          "text": [
            "subjects for Training/Labeled: 150\n",
            "subjects for Validation: 33\n",
            "subjects for Testing: 134\n"
          ]
        }
      ],
      "source": [
        "def get_subjects_names(dir, root_dir=\"/home/ids/mahdi-22/M-M/Data/M&Ms/OpenDataset/\", verbose=False):\n",
        "  subjects_names = glob.glob(\"*\", root_dir=root_dir+dir)\n",
        "  if verbose:\n",
        "    print(f\"subjects for {dir[:-1]}: {len(subjects_names)}\")\n",
        "  return subjects_names\n",
        "\n",
        "training_subjects = get_subjects_names(\"Training/Labeled/\", verbose=True)\n",
        "validation_subjects = get_subjects_names(\"Validation/\", verbose=True)\n",
        "testing_subjects = get_subjects_names(\"Testing/\", verbose=True)"
      ]
    },
    {
      "cell_type": "code",
      "execution_count": 14,
      "metadata": {},
      "outputs": [],
      "source": [
        "def transform_data(data_dir, metadata, subjects_ids, image_size=128 ,padding_size=10):\n",
        "  print(\"Start Transformation\")\n",
        "  for i, subject_id in enumerate(subjects_ids):\n",
        "    print(i, subject_id)\n",
        "    ed_index = metadata.loc[subject_id].ED\n",
        "    es_index = metadata.loc[subject_id].ES\n",
        "\n",
        "    image = tio.ScalarImage(f\"{data_dir}/{subject_id}/{subject_id}_sa.nii.gz\")\n",
        "    seg = tio.LabelMap(f\"{data_dir}/{subject_id}/{subject_id}_sa_gt.nii.gz\")\n",
        "\n",
        "    image.set_data(image.data[[ed_index, es_index]])\n",
        "    seg.set_data(seg.data[[ed_index, es_index]])\n",
        "\n",
        "    c, w, h, d = seg.shape\n",
        "    #Optimize this\n",
        "    min_boundaries = seg.data.nonzero(as_tuple=False).min(axis=0).values[1:-1]\n",
        "    max_boundaries = seg.data.nonzero(as_tuple=False).max(axis=0).values[1:-1]\n",
        "    w_init = min_boundaries[0].item() - padding_size\n",
        "    h_init = min_boundaries[1].item() - padding_size\n",
        "    w_fin = w - max_boundaries[0].item() - padding_size\n",
        "    h_fin = h - max_boundaries[1].item() - padding_size\n",
        "\n",
        "    transform = tio.transforms.Compose([\n",
        "        tio.transforms.Crop((w_init, w_fin, h_init, h_fin, 0, 0)),\n",
        "        tio.transforms.Resize((image_size, image_size, d))\n",
        "        ])\n",
        "\n",
        "    \n",
        "    image = transform(image)\n",
        "    seg = transform(seg)\n",
        "\n",
        "    \n",
        "\n",
        "    image.save(f\"{data_dir}/{subject_id}/{subject_id}_sa.nii.gz\")\n",
        "    seg.save(f\"{data_dir}/{subject_id}/{subject_id}_sa_gt.nii.gz\")\n",
        "\n",
        "\n",
        "    if i%20==0:\n",
        "      print(i+1, \"files saved\")\n",
        "\n",
        "  print(\"Transformation Complete\")   "
      ]
    },
    {
      "cell_type": "code",
      "execution_count": 44,
      "metadata": {},
      "outputs": [
        {
          "name": "stdout",
          "output_type": "stream",
          "text": [
            "Start Transformation\n",
            "0 files saved\n",
            "20 files saved\n",
            "40 files saved\n",
            "60 files saved\n",
            "80 files saved\n",
            "100 files saved\n",
            "120 files saved\n",
            "Transformation Complete\n"
          ]
        }
      ],
      "source": [
        "##Only run once\n",
        "#transform_data(\"/home/ids/mahdi-22/M-M/Data/M&Ms/OpenDataset/Training/Labeled\", metadata, training_subjects)\n",
        "#transform_data(\"/home/ids/mahdi-22/M-M/Data/M&Ms/OpenDataset/Validation\", metadata, validation_subjects)\n",
        "transform_data(\"/home/ids/mahdi-22/M-M/Data/M&Ms/OpenDataset/Testing\", metadata, testing_subjects)"
      ]
    },
    {
      "cell_type": "code",
      "execution_count": 45,
      "metadata": {
        "id": "DdoioeT_r_pq"
      },
      "outputs": [],
      "source": [
        "def load_data(data_dir, metadata, subjects_ids):\n",
        "  subjects = []\n",
        "  for subject_id in subjects_ids:\n",
        "    image = tio.ScalarImage(f\"{data_dir}/{subject_id}/{subject_id}_sa.nii.gz\")\n",
        "    seg = tio.LabelMap(f\"{data_dir}/{subject_id}/{subject_id}_sa_gt.nii.gz\")\n",
        "\n",
        "    subject = tio.Subject(\n",
        "        image = image,\n",
        "        seg = seg,\n",
        "        subject_id = subject_id, \n",
        "        meta = metadata.loc[subject_id],\n",
        "        d = seg.shape[3]\n",
        "    )\n",
        "\n",
        "    subjects.append(subject)\n",
        "\n",
        "  dataset = tio.SubjectsDataset(subjects)\n",
        "  print(data_dir ,'Dataset size:', len(dataset), 'subjects')\n",
        "\n",
        "  return dataset     "
      ]
    },
    {
      "cell_type": "code",
      "execution_count": 46,
      "metadata": {
        "colab": {
          "base_uri": "https://localhost:8080/"
        },
        "id": "7nJW4SYG2kUq",
        "outputId": "7bf99c28-3416-466a-f337-15e859009943"
      },
      "outputs": [
        {
          "name": "stdout",
          "output_type": "stream",
          "text": [
            "/home/ids/mahdi-22/M-M/Data/M&Ms/OpenDataset/Training/Labeled Dataset size: 150 subjects\n",
            "/home/ids/mahdi-22/M-M/Data/M&Ms/OpenDataset/Validation Dataset size: 33 subjects\n",
            "/home/ids/mahdi-22/M-M/Data/M&Ms/OpenDataset/Testing Dataset size: 134 subjects\n"
          ]
        }
      ],
      "source": [
        "train_dataset = load_data(\"/home/ids/mahdi-22/M-M/Data/M&Ms/OpenDataset/Training/Labeled\", metadata, training_subjects)\n",
        "validation_dataset = load_data(\"/home/ids/mahdi-22/M-M/Data/M&Ms/OpenDataset/Validation\", metadata, validation_subjects)\n",
        "#E3F5U2, C8O0P2\n",
        "testing_dataset = load_data(\"/home/ids/mahdi-22/M-M/Data/M&Ms/OpenDataset/Testing\", metadata, testing_subjects)"
      ]
    },
    {
      "cell_type": "code",
      "execution_count": 52,
      "metadata": {
        "colab": {
          "base_uri": "https://localhost:8080/",
          "height": 999
        },
        "id": "PnWGKTld1byc",
        "outputId": "de8f12b3-3a56-41e3-b84d-390a04dbdc6e"
      },
      "outputs": [
        {
          "data": {
            "image/png": "[encoded data removed]",
            "text/plain": [
              "<Figure size 640x480 with 6 Axes>"
            ]
          },
          "metadata": {},
          "output_type": "display_data"
        }
      ],
      "source": [
        "# Visualize one subject\n",
        "one_subject = testing_dataset[80]\n",
        "one_subject.plot(channel=1)"
      ]
    },
    {
      "attachments": {},
      "cell_type": "markdown",
      "metadata": {
        "id": "JyePFFzRycnh"
      },
      "source": [
        "# Comparing memory usage"
      ]
    },
    {
      "cell_type": "code",
      "execution_count": 28,
      "metadata": {
        "id": "wNSGy5b3xUnk"
      },
      "outputs": [],
      "source": [
        "def humanbytes(B):\n",
        "    \"\"\"Return the given bytes as a human friendly KB, MB, GB, or TB string.\"\"\"\n",
        "    B = float(B)\n",
        "    KB = float(1024)\n",
        "    MB = float(KB ** 2) # 1,048,576\n",
        "    GB = float(KB ** 3) # 1,073,741,824\n",
        "    TB = float(KB ** 4) # 1,099,511,627,776\n",
        "\n",
        "    if B < KB:\n",
        "        return '{0} {1}'.format(B,'Bytes' if 0 == B > 1 else 'Byte')\n",
        "    elif KB <= B < MB:\n",
        "        return '{0:.2f} KB'.format(B / KB)\n",
        "    elif MB <= B < GB:\n",
        "        return '{0:.2f} MB'.format(B / MB)\n",
        "    elif GB <= B < TB:\n",
        "        return '{0:.2f} GB'.format(B / GB)\n",
        "    elif TB <= B:\n",
        "        return '{0:.2f} TB'.format(B / TB)"
      ]
    },
    {
      "cell_type": "code",
      "execution_count": 31,
      "metadata": {
        "colab": {
          "base_uri": "https://localhost:8080/"
        },
        "id": "-EyjU_H-vWb-",
        "outputId": "8c820085-4c71-42c9-d360-78cb8f766abe"
      },
      "outputs": [
        {
          "name": "stdout",
          "output_type": "stream",
          "text": [
            "Memory used for subject 0: 3.00 MB\n",
            "Memory used for subject 1: 2.75 MB\n",
            "Memory used for subject 2: 2.50 MB\n",
            "Memory used for subject 3: 3.00 MB\n",
            "Memory used for subject 4: 3.00 MB\n",
            "Memory used for subject 5: 2.75 MB\n",
            "Memory used for subject 6: 3.50 MB\n",
            "Memory used for subject 7: 2.25 MB\n",
            "Memory used for subject 8: 3.00 MB\n",
            "Memory used for subject 9: 3.00 MB\n",
            "Memory used for subject 10: 2.75 MB\n",
            "Memory used for subject 11: 2.50 MB\n",
            "Memory used for subject 12: 2.50 MB\n",
            "Memory used for subject 13: 2.50 MB\n",
            "Memory used for subject 14: 2.75 MB\n",
            "Memory used for subject 15: 2.50 MB\n",
            "Memory used for subject 16: 3.00 MB\n",
            "Memory used for subject 17: 2.75 MB\n",
            "Memory used for subject 18: 1.25 MB\n",
            "Memory used for subject 19: 1.50 MB\n",
            "Memory used for subject 20: 3.00 MB\n",
            "Memory used for subject 21: 2.75 MB\n",
            "Memory used for subject 22: 3.00 MB\n",
            "Memory used for subject 23: 2.75 MB\n",
            "Memory used for subject 24: 3.00 MB\n",
            "Memory used for subject 25: 3.00 MB\n",
            "Memory used for subject 26: 2.50 MB\n",
            "Memory used for subject 27: 2.50 MB\n",
            "Memory used for subject 28: 3.00 MB\n",
            "Memory used for subject 29: 2.50 MB\n",
            "Memory used for subject 30: 2.75 MB\n",
            "Memory used for subject 31: 3.00 MB\n",
            "Memory used for subject 32: 2.75 MB\n",
            "Memory used for subject 33: 2.50 MB\n",
            "Memory used for subject 34: 3.25 MB\n",
            "Memory used for subject 35: 2.75 MB\n",
            "Memory used for subject 36: 2.75 MB\n",
            "Memory used for subject 37: 2.50 MB\n",
            "Memory used for subject 38: 2.50 MB\n",
            "Memory used for subject 39: 3.00 MB\n",
            "Memory used for subject 40: 2.75 MB\n",
            "Memory used for subject 41: 2.50 MB\n",
            "Memory used for subject 42: 2.50 MB\n",
            "Memory used for subject 43: 2.25 MB\n",
            "Memory used for subject 44: 3.00 MB\n",
            "Memory used for subject 45: 2.75 MB\n",
            "Memory used for subject 46: 3.75 MB\n",
            "Memory used for subject 47: 3.50 MB\n",
            "Memory used for subject 48: 2.75 MB\n",
            "Memory used for subject 49: 3.50 MB\n",
            "Memory used for subject 50: 3.00 MB\n",
            "Memory used for subject 51: 3.00 MB\n",
            "Memory used for subject 52: 2.50 MB\n",
            "Memory used for subject 53: 2.50 MB\n",
            "Memory used for subject 54: 2.50 MB\n",
            "Memory used for subject 55: 3.00 MB\n",
            "Memory used for subject 56: 2.00 MB\n",
            "Memory used for subject 57: 3.00 MB\n",
            "Memory used for subject 58: 2.25 MB\n",
            "Memory used for subject 59: 2.50 MB\n",
            "Memory used for subject 60: 2.50 MB\n",
            "Memory used for subject 61: 3.00 MB\n",
            "Memory used for subject 62: 2.75 MB\n",
            "Memory used for subject 63: 3.00 MB\n",
            "Memory used for subject 64: 3.25 MB\n",
            "Memory used for subject 65: 2.50 MB\n",
            "Memory used for subject 66: 2.75 MB\n",
            "Memory used for subject 67: 4.00 MB\n",
            "Memory used for subject 68: 2.50 MB\n",
            "Memory used for subject 69: 3.00 MB\n",
            "Memory used for subject 70: 2.00 MB\n",
            "Memory used for subject 71: 2.50 MB\n",
            "Memory used for subject 72: 3.00 MB\n",
            "Memory used for subject 73: 2.50 MB\n",
            "Memory used for subject 74: 3.00 MB\n",
            "Memory used for subject 75: 2.75 MB\n",
            "Memory used for subject 76: 2.50 MB\n",
            "Memory used for subject 77: 2.75 MB\n",
            "Memory used for subject 78: 2.75 MB\n",
            "Memory used for subject 79: 3.00 MB\n",
            "Memory used for subject 80: 2.25 MB\n",
            "Memory used for subject 81: 2.50 MB\n",
            "Memory used for subject 82: 2.75 MB\n",
            "Memory used for subject 83: 2.25 MB\n",
            "Memory used for subject 84: 2.00 MB\n",
            "Memory used for subject 85: 2.50 MB\n",
            "Memory used for subject 86: 2.25 MB\n",
            "Memory used for subject 87: 3.00 MB\n",
            "Memory used for subject 88: 3.50 MB\n",
            "Memory used for subject 89: 3.25 MB\n",
            "Memory used for subject 90: 1.50 MB\n",
            "Memory used for subject 91: 2.50 MB\n",
            "Memory used for subject 92: 2.50 MB\n",
            "Memory used for subject 93: 3.25 MB\n",
            "Memory used for subject 94: 2.50 MB\n",
            "Memory used for subject 95: 3.50 MB\n",
            "Memory used for subject 96: 2.75 MB\n",
            "Memory used for subject 97: 2.00 MB\n",
            "Memory used for subject 98: 2.50 MB\n",
            "Memory used for subject 99: 3.00 MB\n",
            "Memory used for subject 100: 2.25 MB\n",
            "Memory used for subject 101: 3.00 MB\n",
            "Memory used for subject 102: 3.00 MB\n",
            "Memory used for subject 103: 3.00 MB\n",
            "Memory used for subject 104: 3.00 MB\n",
            "Memory used for subject 105: 3.50 MB\n",
            "Memory used for subject 106: 2.50 MB\n",
            "Memory used for subject 107: 2.00 MB\n",
            "Memory used for subject 108: 2.50 MB\n",
            "Memory used for subject 109: 2.75 MB\n",
            "Memory used for subject 110: 2.50 MB\n",
            "Memory used for subject 111: 3.25 MB\n",
            "Memory used for subject 112: 3.00 MB\n",
            "Memory used for subject 113: 2.50 MB\n",
            "Memory used for subject 114: 2.50 MB\n",
            "Memory used for subject 115: 2.50 MB\n",
            "Memory used for subject 116: 2.75 MB\n",
            "Memory used for subject 117: 3.00 MB\n",
            "Memory used for subject 118: 3.00 MB\n",
            "Memory used for subject 119: 3.00 MB\n",
            "Memory used for subject 120: 2.50 MB\n",
            "Memory used for subject 121: 3.00 MB\n",
            "Memory used for subject 122: 2.50 MB\n",
            "Memory used for subject 123: 3.00 MB\n",
            "Memory used for subject 124: 2.75 MB\n",
            "Memory used for subject 125: 2.25 MB\n",
            "Memory used for subject 126: 2.75 MB\n",
            "Memory used for subject 127: 3.50 MB\n",
            "Memory used for subject 128: 2.50 MB\n",
            "Memory used for subject 129: 2.75 MB\n",
            "Memory used for subject 130: 2.50 MB\n",
            "Memory used for subject 131: 2.50 MB\n",
            "Memory used for subject 132: 3.25 MB\n",
            "Memory used for subject 133: 2.50 MB\n",
            "Memory used for subject 134: 2.50 MB\n",
            "Memory used for subject 135: 2.50 MB\n",
            "Memory used for subject 136: 3.25 MB\n",
            "Memory used for subject 137: 2.00 MB\n",
            "Memory used for subject 138: 2.75 MB\n",
            "Memory used for subject 139: 3.25 MB\n",
            "Memory used for subject 140: 3.00 MB\n",
            "Memory used for subject 141: 2.50 MB\n",
            "Memory used for subject 142: 3.50 MB\n",
            "Memory used for subject 143: 3.25 MB\n",
            "Memory used for subject 144: 2.50 MB\n",
            "Memory used for subject 145: 2.50 MB\n",
            "Memory used for subject 146: 3.25 MB\n",
            "Memory used for subject 147: 2.75 MB\n",
            "Memory used for subject 148: 2.75 MB\n",
            "Memory used for subject 149: 2.50 MB\n",
            "Total memory:  410.75 MB\n"
          ]
        }
      ],
      "source": [
        "image_types = [\"image\", \"seg\"]\n",
        "memory_usage = [sum([subject[image].memory for image in image_types]) for subject in train_dataset.dry_iter()]\n",
        "for i, B in enumerate(memory_usage):\n",
        "  print(f\"Memory used for subject {i}: {humanbytes(B)}\")\n",
        "print(\"Total memory: \", humanbytes(sum(memory_usage)))"
      ]
    }
  ],
  "metadata": {
    "colab": {
      "provenance": []
    },
    "kernelspec": {
      "display_name": "Python 3",
      "name": "python3"
    },
    "language_info": {
      "codemirror_mode": {
        "name": "ipython",
        "version": 3
      },
      "file_extension": ".py",
      "mimetype": "text/x-python",
      "name": "python",
      "nbconvert_exporter": "python",
      "pygments_lexer": "ipython3",
      "version": "3.10.6"
    }
  },
  "nbformat": 4,
  "nbformat_minor": 0
}
